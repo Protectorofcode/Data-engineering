{
 "cells": [
  {
   "cell_type": "code",
   "execution_count": 18,
   "metadata": {},
   "outputs": [],
   "source": [
    "import psycopg2\n",
    "import traceback"
   ]
  },
  {
   "cell_type": "code",
   "execution_count": 19,
   "metadata": {},
   "outputs": [],
   "source": [
    "port_source = 54320\n",
    "port_target = 5433\n",
    "\n",
    "db_name_source = \"postgres_source\"\n",
    "db_name_target = \"postgres_target\"\n",
    "login = \"root\"\n",
    "password = \"postgres\""
   ]
  },
  {
   "cell_type": "code",
   "execution_count": 20,
   "metadata": {},
   "outputs": [],
   "source": [
    "conn_string_source = \"host='localhost' port={} dbname='{}' user='{}' password='{}'\".format(str(port_source), db_name_source,\n",
    "                                                                                          login, password)\n",
    "conn_string_target = \"host='localhost' port={} dbname='{}' user='{}' password='{}'\".format(str(port_target), db_name_target,\n",
    "                                                                                          login, password)"
   ]
  },
  {
   "cell_type": "code",
   "execution_count": 21,
   "metadata": {},
   "outputs": [],
   "source": [
    "def table_export(tab_name, fil_name):\n",
    "    with psycopg2.connect(conn_string_target) as conn, conn.cursor() as cur_exp:\n",
    "        exp_str = \"COPY {} from STDIN WITH DELIMITER ',' CSV HEADER;\".format(tab_name)\n",
    "        try:\n",
    "            with open(fil_name, 'r') as stream_2:\n",
    "                cur_exp.copy_expert(exp_str, stream_2)\n",
    "        except Exception as e:\n",
    "            print('Ошибка:\\n', traceback.format_exc())"
   ]
  },
  {
   "cell_type": "code",
   "execution_count": 22,
   "metadata": {},
   "outputs": [
    {
     "name": "stdout",
     "output_type": "stream",
     "text": [
      "COPY nation TO STDOUT WITH DELIMITER ',' CSV HEADER; nation.csv\n",
      "Ошибка:\n",
      " Traceback (most recent call last):\n",
      "  File \"<ipython-input-21-c8bed6642bca>\", line 6, in table_export\n",
      "    cur_exp.copy_expert(exp_str, stream_2)\n",
      "psycopg2.errors.UndefinedTable: relation \"nation\" does not exist\n",
      "\n",
      "\n",
      "processed  nation\n",
      "COPY region TO STDOUT WITH DELIMITER ',' CSV HEADER; region.csv\n",
      "Ошибка:\n",
      " Traceback (most recent call last):\n",
      "  File \"<ipython-input-21-c8bed6642bca>\", line 6, in table_export\n",
      "    cur_exp.copy_expert(exp_str, stream_2)\n",
      "psycopg2.errors.UndefinedTable: relation \"region\" does not exist\n",
      "\n",
      "\n",
      "processed  region\n",
      "COPY part TO STDOUT WITH DELIMITER ',' CSV HEADER; part.csv\n",
      "Ошибка:\n",
      " Traceback (most recent call last):\n",
      "  File \"<ipython-input-21-c8bed6642bca>\", line 6, in table_export\n",
      "    cur_exp.copy_expert(exp_str, stream_2)\n",
      "psycopg2.errors.UndefinedTable: relation \"part\" does not exist\n",
      "\n",
      "\n",
      "processed  part\n",
      "COPY supplier TO STDOUT WITH DELIMITER ',' CSV HEADER; supplier.csv\n",
      "Ошибка:\n",
      " Traceback (most recent call last):\n",
      "  File \"<ipython-input-21-c8bed6642bca>\", line 6, in table_export\n",
      "    cur_exp.copy_expert(exp_str, stream_2)\n",
      "psycopg2.errors.UndefinedTable: relation \"supplier\" does not exist\n",
      "\n",
      "\n",
      "processed  supplier\n",
      "COPY partsupp TO STDOUT WITH DELIMITER ',' CSV HEADER; partsupp.csv\n",
      "Ошибка:\n",
      " Traceback (most recent call last):\n",
      "  File \"<ipython-input-21-c8bed6642bca>\", line 6, in table_export\n",
      "    cur_exp.copy_expert(exp_str, stream_2)\n",
      "psycopg2.errors.UndefinedTable: relation \"partsupp\" does not exist\n",
      "\n",
      "\n",
      "processed  partsupp\n",
      "COPY customer TO STDOUT WITH DELIMITER ',' CSV HEADER; customer.csv\n",
      "Ошибка:\n",
      " Traceback (most recent call last):\n",
      "  File \"<ipython-input-21-c8bed6642bca>\", line 6, in table_export\n",
      "    cur_exp.copy_expert(exp_str, stream_2)\n",
      "psycopg2.errors.UndefinedTable: relation \"customer\" does not exist\n",
      "\n",
      "\n",
      "processed  customer\n",
      "COPY orders TO STDOUT WITH DELIMITER ',' CSV HEADER; orders.csv\n",
      "Ошибка:\n",
      " Traceback (most recent call last):\n",
      "  File \"<ipython-input-21-c8bed6642bca>\", line 6, in table_export\n",
      "    cur_exp.copy_expert(exp_str, stream_2)\n",
      "psycopg2.errors.UndefinedTable: relation \"orders\" does not exist\n",
      "\n",
      "\n",
      "processed  orders\n",
      "COPY lineitem TO STDOUT WITH DELIMITER ',' CSV HEADER; lineitem.csv\n",
      "Ошибка:\n",
      " Traceback (most recent call last):\n",
      "  File \"<ipython-input-21-c8bed6642bca>\", line 6, in table_export\n",
      "    cur_exp.copy_expert(exp_str, stream_2)\n",
      "psycopg2.errors.UndefinedTable: relation \"lineitem\" does not exist\n",
      "\n",
      "\n",
      "processed  lineitem\n"
     ]
    }
   ],
   "source": [
    "with psycopg2.connect(conn_string_source) as conn, conn.cursor() as cur_1:\n",
    "    query = \"SELECT table_name FROM information_schema.tables WHERE table_schema = 'public';\"\n",
    "    cur_1.execute(query)\n",
    "    for i in cur_1:\n",
    "        tab_name = str(i[0])\n",
    "        sav_str = \"COPY {} TO STDOUT WITH DELIMITER ',' CSV HEADER;\".format(tab_name)\n",
    "        fil_name = \"{}.csv\".format(tab_name)\n",
    "        print(sav_str, fil_name)\n",
    "        with open(fil_name, 'w') as stream_1:\n",
    "            cur_2 = conn.cursor()\n",
    "            cur_2.copy_expert(sav_str, stream_1)\n",
    "            table_export(tab_name, fil_name)\n",
    "            print('processed ', tab_name)"
   ]
  },
  {
   "cell_type": "code",
   "execution_count": null,
   "metadata": {},
   "outputs": [],
   "source": []
  }
 ],
 "metadata": {
  "kernelspec": {
   "display_name": "Python 3",
   "language": "python",
   "name": "python3"
  },
  "language_info": {
   "codemirror_mode": {
    "name": "ipython",
    "version": 3
   },
   "file_extension": ".py",
   "mimetype": "text/x-python",
   "name": "python",
   "nbconvert_exporter": "python",
   "pygments_lexer": "ipython3",
   "version": "3.7.1"
  }
 },
 "nbformat": 4,
 "nbformat_minor": 2
}
