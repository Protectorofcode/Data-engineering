{
  "nbformat": 4,
  "nbformat_minor": 0,
  "metadata": {
    "kernelspec": {
      "display_name": "Python 3",
      "language": "python",
      "name": "python3"
    },
    "language_info": {
      "codemirror_mode": {
        "name": "ipython",
        "version": 3
      },
      "file_extension": ".py",
      "mimetype": "text/x-python",
      "name": "python",
      "nbconvert_exporter": "python",
      "pygments_lexer": "ipython3",
      "version": "3.8.3"
    },
    "colab": {
      "provenance": []
    }
  },
  "cells": [
    {
      "cell_type": "code",
      "metadata": {
        "colab": {
          "base_uri": "https://localhost:8080/"
        },
        "id": "cJ4HYnNluzSx",
        "outputId": "0aa02152-e124-425c-85da-db9c18c6250d"
      },
      "source": [
        "pip install pyspark==2.4.4"
      ],
      "execution_count": null,
      "outputs": [
        {
          "output_type": "stream",
          "name": "stdout",
          "text": [
            "Collecting pyspark==2.4.4\n",
            "  Downloading pyspark-2.4.4.tar.gz (215.7 MB)\n",
            "\u001b[K     |████████████████████████████████| 215.7 MB 59 kB/s \n",
            "\u001b[?25hCollecting py4j==0.10.7\n",
            "  Downloading py4j-0.10.7-py2.py3-none-any.whl (197 kB)\n",
            "\u001b[K     |████████████████████████████████| 197 kB 20.1 MB/s \n",
            "\u001b[?25hBuilding wheels for collected packages: pyspark\n",
            "  Building wheel for pyspark (setup.py) ... \u001b[?25l\u001b[?25hdone\n",
            "  Created wheel for pyspark: filename=pyspark-2.4.4-py2.py3-none-any.whl size=216130392 sha256=3255fc31088e7df6a616d0f259d33aef2fe463c629e6e6844f745dbfa9ce268c\n",
            "  Stored in directory: /root/.cache/pip/wheels/11/48/19/c3b6b66e4575c164407a83bc065179904ddc33c9d6500846f0\n",
            "Successfully built pyspark\n",
            "Installing collected packages: py4j, pyspark\n",
            "Successfully installed py4j-0.10.7 pyspark-2.4.4\n"
          ]
        }
      ]
    },
    {
      "cell_type": "code",
      "metadata": {
        "collapsed": true,
        "id": "bBGb3u4D5r2r"
      },
      "source": [
        "from pyspark.sql import SparkSession\n",
        "\n",
        "spark = SparkSession.builder\\\n",
        "        .master(\"local[*]\")\\\n",
        "        .appName(\"Colab_pyspark\")\\\n",
        "        .config('spark.ui.port', '4050')\\\n",
        "        .config('spark.executor.memory', '3g')\\\n",
        "        .getOrCreate()\n",
        "        # .config('spark.sql.execution.arrow.enabled', 'true')\\\n",
        "        # .config('spark.\"Broadcastsizetable\"', '-1')\\\n",
        "        # .config('preferSortHashJoin', 'true')\\"
      ],
      "execution_count": null,
      "outputs": []
    },
    {
      "cell_type": "markdown",
      "metadata": {
        "id": "_6fwhgQu5r2r"
      },
      "source": [
        "[Transformer base class](https://github.com/apache/spark/blob/v2.4.0/python/pyspark/ml/base.py#L139)\n",
        "\n",
        "[Estimator base class](https://github.com/apache/spark/blob/v2.4.0/python/pyspark/ml/base.py#L70)"
      ]
    },
    {
      "cell_type": "markdown",
      "metadata": {
        "id": "Yo47yWHq5r2s"
      },
      "source": [
        "### Создадим базовый трансформатор"
      ]
    },
    {
      "cell_type": "code",
      "metadata": {
        "collapsed": true,
        "id": "EQd-6Ilf5r2s"
      },
      "source": [
        "from pyspark.ml import Transformer\n",
        "import pyspark.sql.functions as F"
      ],
      "execution_count": null,
      "outputs": []
    },
    {
      "cell_type": "code",
      "metadata": {
        "collapsed": true,
        "id": "dqzO7g8_5r2t"
      },
      "source": [
        "class ConstTransformer(Transformer):\n",
        "    \"\"\"Constant transformer.\n",
        "\n",
        "    It just adds one constant column with a predefined name\n",
        "    \"\"\"\n",
        "    def _transform(self, dataset):\n",
        "        return dataset.withColumn(\"mytransformer\", F.lit(\"I am a constant\"))"
      ],
      "execution_count": null,
      "outputs": []
    },
    {
      "cell_type": "code",
      "metadata": {
        "collapsed": true,
        "id": "Mj4cNJed5r2u"
      },
      "source": [
        "df = spark.range(0, 10, numPartitions=1)"
      ],
      "execution_count": null,
      "outputs": []
    },
    {
      "cell_type": "code",
      "metadata": {
        "colab": {
          "base_uri": "https://localhost:8080/"
        },
        "id": "6igkgQVLvPlH",
        "outputId": "fabf1e59-019e-4c52-ea5a-d2872136cced"
      },
      "source": [
        "df.show()"
      ],
      "execution_count": null,
      "outputs": [
        {
          "output_type": "stream",
          "name": "stdout",
          "text": [
            "+---+\n",
            "| id|\n",
            "+---+\n",
            "|  0|\n",
            "|  1|\n",
            "|  2|\n",
            "|  3|\n",
            "|  4|\n",
            "|  5|\n",
            "|  6|\n",
            "|  7|\n",
            "|  8|\n",
            "|  9|\n",
            "+---+\n",
            "\n"
          ]
        }
      ]
    },
    {
      "cell_type": "code",
      "metadata": {
        "collapsed": true,
        "id": "57CzyAdJ5r2u"
      },
      "source": [
        "transformer = ConstTransformer()"
      ],
      "execution_count": null,
      "outputs": []
    },
    {
      "cell_type": "code",
      "metadata": {
        "collapsed": true,
        "id": "dnBPbsFh5r2v",
        "colab": {
          "base_uri": "https://localhost:8080/"
        },
        "outputId": "2c866a05-b597-43dd-e044-a3e6b407a511"
      },
      "source": [
        "transformer.transform(df).show()"
      ],
      "execution_count": null,
      "outputs": [
        {
          "output_type": "stream",
          "name": "stdout",
          "text": [
            "+---+---------------+\n",
            "| id|  mytransformer|\n",
            "+---+---------------+\n",
            "|  0|I am a constant|\n",
            "|  1|I am a constant|\n",
            "|  2|I am a constant|\n",
            "|  3|I am a constant|\n",
            "|  4|I am a constant|\n",
            "|  5|I am a constant|\n",
            "|  6|I am a constant|\n",
            "|  7|I am a constant|\n",
            "|  8|I am a constant|\n",
            "|  9|I am a constant|\n",
            "+---+---------------+\n",
            "\n"
          ]
        }
      ]
    },
    {
      "cell_type": "markdown",
      "metadata": {
        "id": "wkPrWxph5r2v"
      },
      "source": [
        "### Как специфицируются параметры transformer'а?"
      ]
    },
    {
      "cell_type": "markdown",
      "metadata": {
        "id": "nO54I_s05r2w"
      },
      "source": [
        "[HasOutputCol mixin](https://github.com/apache/spark/blob/v2.4.0/python/pyspark/ml/param/shared.py#L235)"
      ]
    },
    {
      "cell_type": "code",
      "metadata": {
        "collapsed": true,
        "id": "Eb2khkz05r2w"
      },
      "source": [
        "from pyspark.ml.param.shared import HasOutputCol"
      ],
      "execution_count": null,
      "outputs": []
    },
    {
      "cell_type": "code",
      "metadata": {
        "collapsed": true,
        "id": "7MKSfmLK5r2w"
      },
      "source": [
        "class ConstTransformer(Transformer, HasOutputCol):\n",
        "    \"\"\"Constant transformer with variable name.\"\"\"\n",
        "    def __init__(self):\n",
        "        super(ConstTransformer, self).__init__()\n",
        "\n",
        "    def _transform(self, dataset):\n",
        "        return dataset.withColumn(self.getOutputCol(), F.lit(\"I am a constant\"))"
      ],
      "execution_count": null,
      "outputs": []
    },
    {
      "cell_type": "code",
      "metadata": {
        "collapsed": true,
        "id": "VSwiISDw5r2x"
      },
      "source": [
        "transformer = ConstTransformer()"
      ],
      "execution_count": null,
      "outputs": []
    },
    {
      "cell_type": "code",
      "metadata": {
        "collapsed": true,
        "id": "aoNXIXmW5r2x",
        "colab": {
          "base_uri": "https://localhost:8080/"
        },
        "outputId": "a393acab-763e-4e8e-f57c-5abefdbbc6cb"
      },
      "source": [
        "transformer.extractParamMap()"
      ],
      "execution_count": null,
      "outputs": [
        {
          "output_type": "execute_result",
          "data": {
            "text/plain": [
              "{Param(parent='ConstTransformer_011085632af3', name='outputCol', doc='output column name.'): 'ConstTransformer_011085632af3__output'}"
            ]
          },
          "metadata": {},
          "execution_count": 12
        }
      ]
    },
    {
      "cell_type": "code",
      "metadata": {
        "collapsed": true,
        "id": "AFoJDYYs5r2y",
        "colab": {
          "base_uri": "https://localhost:8080/",
          "height": 36
        },
        "outputId": "c3254833-3692-49c2-cb95-6d572d9c850b"
      },
      "source": [
        "transformer.getOutputCol()"
      ],
      "execution_count": null,
      "outputs": [
        {
          "output_type": "execute_result",
          "data": {
            "application/vnd.google.colaboratory.intrinsic+json": {
              "type": "string"
            },
            "text/plain": [
              "'ConstTransformer_011085632af3__output'"
            ]
          },
          "metadata": {},
          "execution_count": 13
        }
      ]
    },
    {
      "cell_type": "code",
      "metadata": {
        "collapsed": true,
        "id": "wBC0m4T55r2y",
        "colab": {
          "base_uri": "https://localhost:8080/"
        },
        "outputId": "8d776c80-c4e4-4d44-99cc-d061e7bab406"
      },
      "source": [
        "transformer.transform(df).show()"
      ],
      "execution_count": null,
      "outputs": [
        {
          "output_type": "stream",
          "name": "stdout",
          "text": [
            "+---+-------------------------------------+\n",
            "| id|ConstTransformer_011085632af3__output|\n",
            "+---+-------------------------------------+\n",
            "|  0|                      I am a constant|\n",
            "|  1|                      I am a constant|\n",
            "|  2|                      I am a constant|\n",
            "|  3|                      I am a constant|\n",
            "|  4|                      I am a constant|\n",
            "|  5|                      I am a constant|\n",
            "|  6|                      I am a constant|\n",
            "|  7|                      I am a constant|\n",
            "|  8|                      I am a constant|\n",
            "|  9|                      I am a constant|\n",
            "+---+-------------------------------------+\n",
            "\n"
          ]
        }
      ]
    },
    {
      "cell_type": "code",
      "metadata": {
        "collapsed": true,
        "id": "ONaAk95k5r2z",
        "colab": {
          "base_uri": "https://localhost:8080/"
        },
        "outputId": "21c8e8dc-2e3e-40d6-8406-7c2e125356ad"
      },
      "source": [
        "transformer.setOutputCol(\"lalalalala\")"
      ],
      "execution_count": null,
      "outputs": [
        {
          "output_type": "execute_result",
          "data": {
            "text/plain": [
              "ConstTransformer_011085632af3"
            ]
          },
          "metadata": {},
          "execution_count": 15
        }
      ]
    },
    {
      "cell_type": "code",
      "metadata": {
        "collapsed": true,
        "id": "phsewA2X5r2z",
        "colab": {
          "base_uri": "https://localhost:8080/"
        },
        "outputId": "8fcd8967-aeda-4c5f-9294-8f6b5810ad47"
      },
      "source": [
        "transformer.transform(df).show()"
      ],
      "execution_count": null,
      "outputs": [
        {
          "output_type": "stream",
          "name": "stdout",
          "text": [
            "+---+---------------+\n",
            "| id|     lalalalala|\n",
            "+---+---------------+\n",
            "|  0|I am a constant|\n",
            "|  1|I am a constant|\n",
            "|  2|I am a constant|\n",
            "|  3|I am a constant|\n",
            "|  4|I am a constant|\n",
            "|  5|I am a constant|\n",
            "|  6|I am a constant|\n",
            "|  7|I am a constant|\n",
            "|  8|I am a constant|\n",
            "|  9|I am a constant|\n",
            "+---+---------------+\n",
            "\n"
          ]
        }
      ]
    },
    {
      "cell_type": "code",
      "metadata": {
        "collapsed": true,
        "id": "EWO25_Xh5r2z"
      },
      "source": [
        "from pyspark import keyword_only"
      ],
      "execution_count": null,
      "outputs": []
    },
    {
      "cell_type": "code",
      "metadata": {
        "collapsed": true,
        "id": "fjs3Tjea5r2z"
      },
      "source": [
        "class ConstTransformer(Transformer, HasOutputCol):\n",
        "    @keyword_only\n",
        "    def __init__(self, outputCol=None):\n",
        "        super(ConstTransformer, self).__init__()\n",
        "        if outputCol is not None:\n",
        "            self.setOutputCol(outputCol)\n",
        "\n",
        "    def _transform(self, dataset):\n",
        "        return dataset.withColumn(self.getOutputCol(), F.lit(\"I am a constant\"))"
      ],
      "execution_count": null,
      "outputs": []
    },
    {
      "cell_type": "code",
      "metadata": {
        "collapsed": true,
        "id": "ChVx2Fif5r20",
        "colab": {
          "base_uri": "https://localhost:8080/",
          "height": 299
        },
        "outputId": "f6284eee-d38d-4757-8e01-84d5108a51b0"
      },
      "source": [
        "transformer = ConstTransformer(\"mycolumn\")"
      ],
      "execution_count": null,
      "outputs": [
        {
          "output_type": "error",
          "ename": "TypeError",
          "evalue": "ignored",
          "traceback": [
            "\u001b[0;31m---------------------------------------------------------------------------\u001b[0m",
            "\u001b[0;31mTypeError\u001b[0m                                 Traceback (most recent call last)",
            "\u001b[0;32m<ipython-input-20-00ea2c999399>\u001b[0m in \u001b[0;36m<module>\u001b[0;34m()\u001b[0m\n\u001b[0;32m----> 1\u001b[0;31m \u001b[0mtransformer\u001b[0m \u001b[0;34m=\u001b[0m \u001b[0mConstTransformer\u001b[0m\u001b[0;34m(\u001b[0m\u001b[0;34m\"mycolumn\"\u001b[0m\u001b[0;34m)\u001b[0m\u001b[0;34m\u001b[0m\u001b[0;34m\u001b[0m\u001b[0m\n\u001b[0m",
            "\u001b[0;32m/usr/local/lib/python3.7/dist-packages/pyspark/__init__.py\u001b[0m in \u001b[0;36mwrapper\u001b[0;34m(self, *args, **kwargs)\u001b[0m\n\u001b[1;32m    106\u001b[0m     \u001b[0;32mdef\u001b[0m \u001b[0mwrapper\u001b[0m\u001b[0;34m(\u001b[0m\u001b[0mself\u001b[0m\u001b[0;34m,\u001b[0m \u001b[0;34m*\u001b[0m\u001b[0margs\u001b[0m\u001b[0;34m,\u001b[0m \u001b[0;34m**\u001b[0m\u001b[0mkwargs\u001b[0m\u001b[0;34m)\u001b[0m\u001b[0;34m:\u001b[0m\u001b[0;34m\u001b[0m\u001b[0;34m\u001b[0m\u001b[0m\n\u001b[1;32m    107\u001b[0m         \u001b[0;32mif\u001b[0m \u001b[0mlen\u001b[0m\u001b[0;34m(\u001b[0m\u001b[0margs\u001b[0m\u001b[0;34m)\u001b[0m \u001b[0;34m>\u001b[0m \u001b[0;36m0\u001b[0m\u001b[0;34m:\u001b[0m\u001b[0;34m\u001b[0m\u001b[0;34m\u001b[0m\u001b[0m\n\u001b[0;32m--> 108\u001b[0;31m             \u001b[0;32mraise\u001b[0m \u001b[0mTypeError\u001b[0m\u001b[0;34m(\u001b[0m\u001b[0;34m\"Method %s forces keyword arguments.\"\u001b[0m \u001b[0;34m%\u001b[0m \u001b[0mfunc\u001b[0m\u001b[0;34m.\u001b[0m\u001b[0m__name__\u001b[0m\u001b[0;34m)\u001b[0m\u001b[0;34m\u001b[0m\u001b[0;34m\u001b[0m\u001b[0m\n\u001b[0m\u001b[1;32m    109\u001b[0m         \u001b[0mself\u001b[0m\u001b[0;34m.\u001b[0m\u001b[0m_input_kwargs\u001b[0m \u001b[0;34m=\u001b[0m \u001b[0mkwargs\u001b[0m\u001b[0;34m\u001b[0m\u001b[0;34m\u001b[0m\u001b[0m\n\u001b[1;32m    110\u001b[0m         \u001b[0;32mreturn\u001b[0m \u001b[0mfunc\u001b[0m\u001b[0;34m(\u001b[0m\u001b[0mself\u001b[0m\u001b[0;34m,\u001b[0m \u001b[0;34m**\u001b[0m\u001b[0mkwargs\u001b[0m\u001b[0;34m)\u001b[0m\u001b[0;34m\u001b[0m\u001b[0;34m\u001b[0m\u001b[0m\n",
            "\u001b[0;31mTypeError\u001b[0m: Method __init__ forces keyword arguments."
          ]
        }
      ]
    },
    {
      "cell_type": "code",
      "metadata": {
        "collapsed": true,
        "id": "v_QpxlDK5r20"
      },
      "source": [
        "transformer = ConstTransformer(outputCol=\"myColumn\")"
      ],
      "execution_count": null,
      "outputs": []
    },
    {
      "cell_type": "code",
      "metadata": {
        "collapsed": true,
        "id": "w-0_FCo85r20",
        "colab": {
          "base_uri": "https://localhost:8080/",
          "height": 36
        },
        "outputId": "4457466b-9bbf-41a3-980f-61be8c2a19b5"
      },
      "source": [
        "transformer.getOutputCol()"
      ],
      "execution_count": null,
      "outputs": [
        {
          "output_type": "execute_result",
          "data": {
            "application/vnd.google.colaboratory.intrinsic+json": {
              "type": "string"
            },
            "text/plain": [
              "'myColumn'"
            ]
          },
          "metadata": {},
          "execution_count": 22
        }
      ]
    },
    {
      "cell_type": "code",
      "metadata": {
        "collapsed": true,
        "id": "RiheNQ-j5r20",
        "colab": {
          "base_uri": "https://localhost:8080/"
        },
        "outputId": "82f7c480-4451-4a38-930f-10aec4eb2891"
      },
      "source": [
        "transformer.transform(df).show()"
      ],
      "execution_count": null,
      "outputs": [
        {
          "output_type": "stream",
          "name": "stdout",
          "text": [
            "+---+---------------+\n",
            "| id|       myColumn|\n",
            "+---+---------------+\n",
            "|  0|I am a constant|\n",
            "|  1|I am a constant|\n",
            "|  2|I am a constant|\n",
            "|  3|I am a constant|\n",
            "|  4|I am a constant|\n",
            "|  5|I am a constant|\n",
            "|  6|I am a constant|\n",
            "|  7|I am a constant|\n",
            "|  8|I am a constant|\n",
            "|  9|I am a constant|\n",
            "+---+---------------+\n",
            "\n"
          ]
        }
      ]
    },
    {
      "cell_type": "code",
      "metadata": {
        "collapsed": true,
        "id": "GlNoSKpp5r21",
        "colab": {
          "base_uri": "https://localhost:8080/"
        },
        "outputId": "216b9372-423e-436a-9b43-0a02085472ce"
      },
      "source": [
        "transformer.setOutputCol(\"anotherColumn\")"
      ],
      "execution_count": null,
      "outputs": [
        {
          "output_type": "execute_result",
          "data": {
            "text/plain": [
              "ConstTransformer_e6a0b52aa95b"
            ]
          },
          "metadata": {},
          "execution_count": 24
        }
      ]
    },
    {
      "cell_type": "code",
      "metadata": {
        "collapsed": true,
        "id": "_Z_DWWp35r21",
        "colab": {
          "base_uri": "https://localhost:8080/"
        },
        "outputId": "ac17ede0-55aa-4efc-cd50-ce393feb99a6"
      },
      "source": [
        "transformer.transform(df).show()"
      ],
      "execution_count": null,
      "outputs": [
        {
          "output_type": "stream",
          "name": "stdout",
          "text": [
            "+---+---------------+\n",
            "| id|  anotherColumn|\n",
            "+---+---------------+\n",
            "|  0|I am a constant|\n",
            "|  1|I am a constant|\n",
            "|  2|I am a constant|\n",
            "|  3|I am a constant|\n",
            "|  4|I am a constant|\n",
            "|  5|I am a constant|\n",
            "|  6|I am a constant|\n",
            "|  7|I am a constant|\n",
            "|  8|I am a constant|\n",
            "|  9|I am a constant|\n",
            "+---+---------------+\n",
            "\n"
          ]
        }
      ]
    },
    {
      "cell_type": "markdown",
      "metadata": {
        "id": "dkEhO_7F5r21"
      },
      "source": [
        "### Давайте создадим transformer с заданными input и output колонками?\n",
        "[HasInputCol mixin](https://github.com/apache/spark/blob/v2.4.0/python/pyspark/ml/param/shared.py#L189)"
      ]
    },
    {
      "cell_type": "code",
      "metadata": {
        "collapsed": true,
        "id": "QODHZB4K5r22"
      },
      "source": [
        "from pyspark.ml.param.shared import HasInputCol"
      ],
      "execution_count": null,
      "outputs": []
    },
    {
      "cell_type": "code",
      "metadata": {
        "collapsed": true,
        "id": "eC9z0ntd5r22"
      },
      "source": [
        "class HashTransformer(Transformer, HasInputCol, HasOutputCol):\n",
        "    @keyword_only\n",
        "    def __init__(self, inputCol=None, outputCol=None):\n",
        "        super(HashTransformer, self).__init__()\n",
        "        if inputCol is not None:\n",
        "            self.setInputCol(inputCol)\n",
        "        if outputCol is not None:\n",
        "            self.setOutputCol(outputCol)\n",
        "\n",
        "    def _transform(self, dataset):\n",
        "        return dataset.withColumn(self.getOutputCol(), F.md5(F.col(self.getInputCol()).cast(\"string\")))"
      ],
      "execution_count": null,
      "outputs": []
    },
    {
      "cell_type": "code",
      "metadata": {
        "collapsed": true,
        "id": "RYUHNuxU5r22"
      },
      "source": [
        "transformer = HashTransformer(inputCol=\"id\", outputCol=\"hash\")"
      ],
      "execution_count": null,
      "outputs": []
    },
    {
      "cell_type": "code",
      "metadata": {
        "collapsed": true,
        "id": "VOJVTufJ5r23",
        "colab": {
          "base_uri": "https://localhost:8080/"
        },
        "outputId": "78c3a759-5dc2-42d4-a1b1-4e0035f03090"
      },
      "source": [
        "df.show()"
      ],
      "execution_count": null,
      "outputs": [
        {
          "output_type": "stream",
          "name": "stdout",
          "text": [
            "+---+\n",
            "| id|\n",
            "+---+\n",
            "|  0|\n",
            "|  1|\n",
            "|  2|\n",
            "|  3|\n",
            "|  4|\n",
            "|  5|\n",
            "|  6|\n",
            "|  7|\n",
            "|  8|\n",
            "|  9|\n",
            "+---+\n",
            "\n"
          ]
        }
      ]
    },
    {
      "cell_type": "code",
      "metadata": {
        "collapsed": true,
        "id": "1yqy0L0e5r25",
        "colab": {
          "base_uri": "https://localhost:8080/"
        },
        "outputId": "2f4cc22b-1642-41fc-c365-edf8c23ae066"
      },
      "source": [
        "transformer.transform(df).show()"
      ],
      "execution_count": null,
      "outputs": [
        {
          "output_type": "stream",
          "name": "stdout",
          "text": [
            "+---+--------------------+\n",
            "| id|                hash|\n",
            "+---+--------------------+\n",
            "|  0|cfcd208495d565ef6...|\n",
            "|  1|c4ca4238a0b923820...|\n",
            "|  2|c81e728d9d4c2f636...|\n",
            "|  3|eccbc87e4b5ce2fe2...|\n",
            "|  4|a87ff679a2f3e71d9...|\n",
            "|  5|e4da3b7fbbce2345d...|\n",
            "|  6|1679091c5a880faf6...|\n",
            "|  7|8f14e45fceea167a5...|\n",
            "|  8|c9f0f895fb98ab915...|\n",
            "|  9|45c48cce2e2d7fbde...|\n",
            "+---+--------------------+\n",
            "\n"
          ]
        }
      ]
    },
    {
      "cell_type": "markdown",
      "metadata": {
        "id": "ILV2BkTA5r26"
      },
      "source": [
        "### Как определить кастомный параметр?\n",
        "[Param](https://github.com/apache/spark/blob/v2.4.0/python/pyspark/ml/param/__init__.py#L37)"
      ]
    },
    {
      "cell_type": "code",
      "metadata": {
        "collapsed": true,
        "id": "QY5Vly5F5r27"
      },
      "source": [
        "from pyspark.ml.param import Param, Params, TypeConverters"
      ],
      "execution_count": null,
      "outputs": []
    },
    {
      "cell_type": "code",
      "metadata": {
        "collapsed": true,
        "id": "OQ_6rGJ25r27"
      },
      "source": [
        "class HashTransformer(Transformer, HasInputCol, HasOutputCol):\n",
        "\n",
        "    algorithm = Param(Params._dummy(), \"algorithm\",\n",
        "                      \"hash function to use, must be one of (md5|sha1)\",\n",
        "                      typeConverter=TypeConverters.toString)\n",
        "\n",
        "    @keyword_only\n",
        "    def __init__(self, inputCol=None, outputCol=None, algorithm=\"md5\"):\n",
        "        super(HashTransformer, self).__init__()\n",
        "        if inputCol is not None:\n",
        "            self.setInputCol(inputCol)\n",
        "        if outputCol is not None:\n",
        "            self.setOutputCol(outputCol)\n",
        "        self._set(algorithm=algorithm)\n",
        "\n",
        "    def get_hash_function(self):\n",
        "        try:\n",
        "            return getattr(F, self.getOrDefault(\"algorithm\"))\n",
        "        except AttributeError as e:\n",
        "            raise ValueError(\"Unsupported algorithm {}\".format(self.getOrDefault(\"algorithm\")))\n",
        "\n",
        "    def setAlgorithm(self, algorithm):\n",
        "        self._set(algorithm=algorithm)\n",
        "\n",
        "    def _transform(self, dataset):\n",
        "        hash_col = self.get_hash_function()\n",
        "        return dataset.withColumn(self.getOutputCol(), hash_col(F.col(self.getInputCol()).cast(\"string\")))"
      ],
      "execution_count": null,
      "outputs": []
    },
    {
      "cell_type": "code",
      "metadata": {
        "collapsed": true,
        "id": "8Ss8V_dp5r28"
      },
      "source": [
        "transformer = HashTransformer(inputCol=\"id\", outputCol=\"hash\", algorithm=\"lalalal\")"
      ],
      "execution_count": null,
      "outputs": []
    },
    {
      "cell_type": "code",
      "metadata": {
        "collapsed": true,
        "id": "HTMbmY1Q5r29",
        "colab": {
          "base_uri": "https://localhost:8080/"
        },
        "outputId": "93b75bdc-af2b-45a1-bc10-70f479c96d20"
      },
      "source": [
        "print(transformer.explainParams())"
      ],
      "execution_count": null,
      "outputs": [
        {
          "output_type": "stream",
          "name": "stdout",
          "text": [
            "algorithm: hash function to use, must be one of (md5|sha1) (current: lalalal)\n",
            "inputCol: input column name. (current: id)\n",
            "outputCol: output column name. (default: HashTransformer_d201f9bcac7e__output, current: hash)\n"
          ]
        }
      ]
    },
    {
      "cell_type": "code",
      "metadata": {
        "collapsed": true,
        "id": "CRQ6-zm25r2-",
        "colab": {
          "base_uri": "https://localhost:8080/",
          "height": 36
        },
        "outputId": "509f46cc-b83d-42d9-dafd-5560a79275ff"
      },
      "source": [
        "transformer.getOrDefault(\"algorithm\")"
      ],
      "execution_count": null,
      "outputs": [
        {
          "output_type": "execute_result",
          "data": {
            "application/vnd.google.colaboratory.intrinsic+json": {
              "type": "string"
            },
            "text/plain": [
              "'lalalal'"
            ]
          },
          "metadata": {},
          "execution_count": 35
        }
      ]
    },
    {
      "cell_type": "code",
      "metadata": {
        "collapsed": true,
        "id": "HJhSmq8c5r2-",
        "colab": {
          "base_uri": "https://localhost:8080/",
          "height": 470
        },
        "outputId": "539232de-5db7-48ad-e54f-a7580753ee7f"
      },
      "source": [
        "transformer.transform(df).show()"
      ],
      "execution_count": null,
      "outputs": [
        {
          "output_type": "error",
          "ename": "ValueError",
          "evalue": "ignored",
          "traceback": [
            "\u001b[0;31m---------------------------------------------------------------------------\u001b[0m",
            "\u001b[0;31mAttributeError\u001b[0m                            Traceback (most recent call last)",
            "\u001b[0;32m<ipython-input-32-c38b3c0414f0>\u001b[0m in \u001b[0;36mget_hash_function\u001b[0;34m(self)\u001b[0m\n\u001b[1;32m     17\u001b[0m         \u001b[0;32mtry\u001b[0m\u001b[0;34m:\u001b[0m\u001b[0;34m\u001b[0m\u001b[0;34m\u001b[0m\u001b[0m\n\u001b[0;32m---> 18\u001b[0;31m             \u001b[0;32mreturn\u001b[0m \u001b[0mgetattr\u001b[0m\u001b[0;34m(\u001b[0m\u001b[0mF\u001b[0m\u001b[0;34m,\u001b[0m \u001b[0mself\u001b[0m\u001b[0;34m.\u001b[0m\u001b[0mgetOrDefault\u001b[0m\u001b[0;34m(\u001b[0m\u001b[0;34m\"algorithm\"\u001b[0m\u001b[0;34m)\u001b[0m\u001b[0;34m)\u001b[0m\u001b[0;34m\u001b[0m\u001b[0;34m\u001b[0m\u001b[0m\n\u001b[0m\u001b[1;32m     19\u001b[0m         \u001b[0;32mexcept\u001b[0m \u001b[0mAttributeError\u001b[0m \u001b[0;32mas\u001b[0m \u001b[0me\u001b[0m\u001b[0;34m:\u001b[0m\u001b[0;34m\u001b[0m\u001b[0;34m\u001b[0m\u001b[0m\n",
            "\u001b[0;31mAttributeError\u001b[0m: module 'pyspark.sql.functions' has no attribute 'lalalal'",
            "\nDuring handling of the above exception, another exception occurred:\n",
            "\u001b[0;31mValueError\u001b[0m                                Traceback (most recent call last)",
            "\u001b[0;32m<ipython-input-36-34854416eae7>\u001b[0m in \u001b[0;36m<module>\u001b[0;34m()\u001b[0m\n\u001b[0;32m----> 1\u001b[0;31m \u001b[0mtransformer\u001b[0m\u001b[0;34m.\u001b[0m\u001b[0mtransform\u001b[0m\u001b[0;34m(\u001b[0m\u001b[0mdf\u001b[0m\u001b[0;34m)\u001b[0m\u001b[0;34m.\u001b[0m\u001b[0mshow\u001b[0m\u001b[0;34m(\u001b[0m\u001b[0;34m)\u001b[0m\u001b[0;34m\u001b[0m\u001b[0;34m\u001b[0m\u001b[0m\n\u001b[0m",
            "\u001b[0;32m/usr/local/lib/python3.7/dist-packages/pyspark/ml/base.py\u001b[0m in \u001b[0;36mtransform\u001b[0;34m(self, dataset, params)\u001b[0m\n\u001b[1;32m    171\u001b[0m                 \u001b[0;32mreturn\u001b[0m \u001b[0mself\u001b[0m\u001b[0;34m.\u001b[0m\u001b[0mcopy\u001b[0m\u001b[0;34m(\u001b[0m\u001b[0mparams\u001b[0m\u001b[0;34m)\u001b[0m\u001b[0;34m.\u001b[0m\u001b[0m_transform\u001b[0m\u001b[0;34m(\u001b[0m\u001b[0mdataset\u001b[0m\u001b[0;34m)\u001b[0m\u001b[0;34m\u001b[0m\u001b[0;34m\u001b[0m\u001b[0m\n\u001b[1;32m    172\u001b[0m             \u001b[0;32melse\u001b[0m\u001b[0;34m:\u001b[0m\u001b[0;34m\u001b[0m\u001b[0;34m\u001b[0m\u001b[0m\n\u001b[0;32m--> 173\u001b[0;31m                 \u001b[0;32mreturn\u001b[0m \u001b[0mself\u001b[0m\u001b[0;34m.\u001b[0m\u001b[0m_transform\u001b[0m\u001b[0;34m(\u001b[0m\u001b[0mdataset\u001b[0m\u001b[0;34m)\u001b[0m\u001b[0;34m\u001b[0m\u001b[0;34m\u001b[0m\u001b[0m\n\u001b[0m\u001b[1;32m    174\u001b[0m         \u001b[0;32melse\u001b[0m\u001b[0;34m:\u001b[0m\u001b[0;34m\u001b[0m\u001b[0;34m\u001b[0m\u001b[0m\n\u001b[1;32m    175\u001b[0m             \u001b[0;32mraise\u001b[0m \u001b[0mValueError\u001b[0m\u001b[0;34m(\u001b[0m\u001b[0;34m\"Params must be a param map but got %s.\"\u001b[0m \u001b[0;34m%\u001b[0m \u001b[0mtype\u001b[0m\u001b[0;34m(\u001b[0m\u001b[0mparams\u001b[0m\u001b[0;34m)\u001b[0m\u001b[0;34m)\u001b[0m\u001b[0;34m\u001b[0m\u001b[0;34m\u001b[0m\u001b[0m\n",
            "\u001b[0;32m<ipython-input-32-c38b3c0414f0>\u001b[0m in \u001b[0;36m_transform\u001b[0;34m(self, dataset)\u001b[0m\n\u001b[1;32m     24\u001b[0m \u001b[0;34m\u001b[0m\u001b[0m\n\u001b[1;32m     25\u001b[0m     \u001b[0;32mdef\u001b[0m \u001b[0m_transform\u001b[0m\u001b[0;34m(\u001b[0m\u001b[0mself\u001b[0m\u001b[0;34m,\u001b[0m \u001b[0mdataset\u001b[0m\u001b[0;34m)\u001b[0m\u001b[0;34m:\u001b[0m\u001b[0;34m\u001b[0m\u001b[0;34m\u001b[0m\u001b[0m\n\u001b[0;32m---> 26\u001b[0;31m         \u001b[0mhash_col\u001b[0m \u001b[0;34m=\u001b[0m \u001b[0mself\u001b[0m\u001b[0;34m.\u001b[0m\u001b[0mget_hash_function\u001b[0m\u001b[0;34m(\u001b[0m\u001b[0;34m)\u001b[0m\u001b[0;34m\u001b[0m\u001b[0;34m\u001b[0m\u001b[0m\n\u001b[0m\u001b[1;32m     27\u001b[0m         \u001b[0;32mreturn\u001b[0m \u001b[0mdataset\u001b[0m\u001b[0;34m.\u001b[0m\u001b[0mwithColumn\u001b[0m\u001b[0;34m(\u001b[0m\u001b[0mself\u001b[0m\u001b[0;34m.\u001b[0m\u001b[0mgetOutputCol\u001b[0m\u001b[0;34m(\u001b[0m\u001b[0;34m)\u001b[0m\u001b[0;34m,\u001b[0m \u001b[0mhash_col\u001b[0m\u001b[0;34m(\u001b[0m\u001b[0mF\u001b[0m\u001b[0;34m.\u001b[0m\u001b[0mcol\u001b[0m\u001b[0;34m(\u001b[0m\u001b[0mself\u001b[0m\u001b[0;34m.\u001b[0m\u001b[0mgetInputCol\u001b[0m\u001b[0;34m(\u001b[0m\u001b[0;34m)\u001b[0m\u001b[0;34m)\u001b[0m\u001b[0;34m.\u001b[0m\u001b[0mcast\u001b[0m\u001b[0;34m(\u001b[0m\u001b[0;34m\"string\"\u001b[0m\u001b[0;34m)\u001b[0m\u001b[0;34m)\u001b[0m\u001b[0;34m)\u001b[0m\u001b[0;34m\u001b[0m\u001b[0;34m\u001b[0m\u001b[0m\n",
            "\u001b[0;32m<ipython-input-32-c38b3c0414f0>\u001b[0m in \u001b[0;36mget_hash_function\u001b[0;34m(self)\u001b[0m\n\u001b[1;32m     18\u001b[0m             \u001b[0;32mreturn\u001b[0m \u001b[0mgetattr\u001b[0m\u001b[0;34m(\u001b[0m\u001b[0mF\u001b[0m\u001b[0;34m,\u001b[0m \u001b[0mself\u001b[0m\u001b[0;34m.\u001b[0m\u001b[0mgetOrDefault\u001b[0m\u001b[0;34m(\u001b[0m\u001b[0;34m\"algorithm\"\u001b[0m\u001b[0;34m)\u001b[0m\u001b[0;34m)\u001b[0m\u001b[0;34m\u001b[0m\u001b[0;34m\u001b[0m\u001b[0m\n\u001b[1;32m     19\u001b[0m         \u001b[0;32mexcept\u001b[0m \u001b[0mAttributeError\u001b[0m \u001b[0;32mas\u001b[0m \u001b[0me\u001b[0m\u001b[0;34m:\u001b[0m\u001b[0;34m\u001b[0m\u001b[0;34m\u001b[0m\u001b[0m\n\u001b[0;32m---> 20\u001b[0;31m             \u001b[0;32mraise\u001b[0m \u001b[0mValueError\u001b[0m\u001b[0;34m(\u001b[0m\u001b[0;34m\"Unsupported algorithm {}\"\u001b[0m\u001b[0;34m.\u001b[0m\u001b[0mformat\u001b[0m\u001b[0;34m(\u001b[0m\u001b[0mself\u001b[0m\u001b[0;34m.\u001b[0m\u001b[0mgetOrDefault\u001b[0m\u001b[0;34m(\u001b[0m\u001b[0;34m\"algorithm\"\u001b[0m\u001b[0;34m)\u001b[0m\u001b[0;34m)\u001b[0m\u001b[0;34m)\u001b[0m\u001b[0;34m\u001b[0m\u001b[0;34m\u001b[0m\u001b[0m\n\u001b[0m\u001b[1;32m     21\u001b[0m \u001b[0;34m\u001b[0m\u001b[0m\n\u001b[1;32m     22\u001b[0m     \u001b[0;32mdef\u001b[0m \u001b[0msetAlgorithm\u001b[0m\u001b[0;34m(\u001b[0m\u001b[0mself\u001b[0m\u001b[0;34m,\u001b[0m \u001b[0malgorithm\u001b[0m\u001b[0;34m)\u001b[0m\u001b[0;34m:\u001b[0m\u001b[0;34m\u001b[0m\u001b[0;34m\u001b[0m\u001b[0m\n",
            "\u001b[0;31mValueError\u001b[0m: Unsupported algorithm lalalal"
          ]
        }
      ]
    },
    {
      "cell_type": "code",
      "metadata": {
        "collapsed": true,
        "id": "sF8CZynb5r2_"
      },
      "source": [
        "transformer.setAlgorithm(\"sha1\")"
      ],
      "execution_count": null,
      "outputs": []
    },
    {
      "cell_type": "code",
      "metadata": {
        "collapsed": true,
        "id": "gWkssPbc5r3A",
        "colab": {
          "base_uri": "https://localhost:8080/",
          "height": 36
        },
        "outputId": "091634fa-0d91-4373-d69f-3d29afc80be7"
      },
      "source": [
        "transformer.getOrDefault(\"algorithm\")"
      ],
      "execution_count": null,
      "outputs": [
        {
          "output_type": "execute_result",
          "data": {
            "application/vnd.google.colaboratory.intrinsic+json": {
              "type": "string"
            },
            "text/plain": [
              "'sha1'"
            ]
          },
          "metadata": {},
          "execution_count": 38
        }
      ]
    },
    {
      "cell_type": "code",
      "metadata": {
        "collapsed": true,
        "id": "Qn0c_Nmt5r3A",
        "colab": {
          "base_uri": "https://localhost:8080/"
        },
        "outputId": "1c2d46e6-f213-4853-e91c-0cca45397578"
      },
      "source": [
        "transformer.transform(df).show()"
      ],
      "execution_count": null,
      "outputs": [
        {
          "output_type": "stream",
          "name": "stdout",
          "text": [
            "+---+--------------------+\n",
            "| id|                hash|\n",
            "+---+--------------------+\n",
            "|  0|b6589fc6ab0dc82cf...|\n",
            "|  1|356a192b7913b04c5...|\n",
            "|  2|da4b9237bacccdf19...|\n",
            "|  3|77de68daecd823bab...|\n",
            "|  4|1b6453892473a467d...|\n",
            "|  5|ac3478d69a3c81fa6...|\n",
            "|  6|c1dfd96eea8cc2b62...|\n",
            "|  7|902ba3cda18838015...|\n",
            "|  8|fe5dbbcea5ce7e298...|\n",
            "|  9|0ade7c2cf97f75d00...|\n",
            "+---+--------------------+\n",
            "\n"
          ]
        }
      ]
    },
    {
      "cell_type": "markdown",
      "metadata": {
        "id": "lB0IGdL95r3B"
      },
      "source": [
        "#  Передадим параметр из одного Transformer'а в другой"
      ]
    },
    {
      "cell_type": "code",
      "metadata": {
        "collapsed": true,
        "id": "lTPeR2-Z5r3B"
      },
      "source": [
        "class HashTransformer(Transformer, HasInputCol, HasOutputCol):\n",
        "\n",
        "    algorithm = Param(Params._dummy(), \"algorithm\",\n",
        "                      \"hash function to use, must be one of (md5|sha1)\",\n",
        "                      typeConverter=TypeConverters.toString)\n",
        "\n",
        "    @keyword_only\n",
        "    def __init__(self, inputCol=None, outputCol=None, algorithm=\"md5\"):\n",
        "        super(HashTransformer, self).__init__()\n",
        "        if inputCol is not None:\n",
        "            self.setInputCol(inputCol)\n",
        "        if outputCol is not None:\n",
        "            self.setOutputCol(outputCol)\n",
        "        self._set(algorithm=algorithm)\n",
        "\n",
        "    def get_hash_function(self):\n",
        "        try:\n",
        "            return getattr(F, self.getOrDefault(\"algorithm\"))\n",
        "        except AttributeError as e:\n",
        "            raise ValueError(\"Unsupported algorithm {}\".format(self.getOrDefault(\"algorithm\")))\n",
        "\n",
        "    def setAlgorithm(self, algorithm):\n",
        "        self._set(algorithm=algorithm)\n",
        "\n",
        "    def getAlgorithm(self):\n",
        "        return self.getOrDefault(\"algorithm\")\n",
        "\n",
        "    def _transform(self, dataset):\n",
        "        hash_col = self.get_hash_function()\n",
        "        res = dataset.withColumn(self.getOutputCol(), hash_col(F.col(self.getInputCol()).cast(\"string\")))\n",
        "        self._set(algorithm='md5')\n",
        "        return res"
      ],
      "execution_count": null,
      "outputs": []
    },
    {
      "cell_type": "code",
      "metadata": {
        "collapsed": true,
        "id": "TY5FavPV5r3C"
      },
      "source": [
        "transformer1 = HashTransformer(inputCol=\"id\", outputCol=\"hash1\", algorithm=\"sha1\")\n",
        "transformer2 = HashTransformer(inputCol=\"hash1\", outputCol=\"hash2\", algorithm=transformer1.getAlgorithm())"
      ],
      "execution_count": null,
      "outputs": []
    },
    {
      "cell_type": "code",
      "metadata": {
        "colab": {
          "base_uri": "https://localhost:8080/",
          "height": 36
        },
        "id": "FLil7M86rwio",
        "outputId": "551a85e9-cf9e-4f0c-8d87-8b1eff3eb5b7"
      },
      "source": [
        "transformer1.getAlgorithm()"
      ],
      "execution_count": null,
      "outputs": [
        {
          "output_type": "execute_result",
          "data": {
            "application/vnd.google.colaboratory.intrinsic+json": {
              "type": "string"
            },
            "text/plain": [
              "'sha1'"
            ]
          },
          "metadata": {},
          "execution_count": 42
        }
      ]
    },
    {
      "cell_type": "code",
      "metadata": {
        "collapsed": true,
        "id": "YquLJfpA5r3C",
        "colab": {
          "base_uri": "https://localhost:8080/",
          "height": 36
        },
        "outputId": "5769c767-d19b-4f50-b648-d7a7bbc70fa3"
      },
      "source": [
        "transformer2.getAlgorithm()"
      ],
      "execution_count": null,
      "outputs": [
        {
          "output_type": "execute_result",
          "data": {
            "application/vnd.google.colaboratory.intrinsic+json": {
              "type": "string"
            },
            "text/plain": [
              "'sha1'"
            ]
          },
          "metadata": {},
          "execution_count": 43
        }
      ]
    },
    {
      "cell_type": "code",
      "metadata": {
        "collapsed": true,
        "id": "d7CFzEzk5r3C"
      },
      "source": [
        "from pyspark.ml import Pipeline\n",
        "\n",
        "pipeline = Pipeline(stages=[\n",
        "    transformer1, transformer2\n",
        "])"
      ],
      "execution_count": null,
      "outputs": []
    },
    {
      "cell_type": "code",
      "metadata": {
        "collapsed": true,
        "id": "KrqLLTf-5r3C"
      },
      "source": [
        "pipeline_model = pipeline.fit(df)"
      ],
      "execution_count": null,
      "outputs": []
    },
    {
      "cell_type": "code",
      "metadata": {
        "collapsed": true,
        "id": "vppnMu3m5r3C",
        "colab": {
          "base_uri": "https://localhost:8080/"
        },
        "outputId": "8aaa7c87-4035-4f02-fc5b-cbeffef4a759"
      },
      "source": [
        "pipeline_model.transform(df).show(5)"
      ],
      "execution_count": null,
      "outputs": [
        {
          "output_type": "stream",
          "name": "stdout",
          "text": [
            "+---+--------------------+--------------------+\n",
            "| id|               hash1|               hash2|\n",
            "+---+--------------------+--------------------+\n",
            "|  0|b6589fc6ab0dc82cf...|784a97bf1955d5f7a...|\n",
            "|  1|356a192b7913b04c5...|9c1c01dc3ac1445a5...|\n",
            "|  2|da4b9237bacccdf19...|f4f59e822581d785b...|\n",
            "|  3|77de68daecd823bab...|08743582456b52abe...|\n",
            "|  4|1b6453892473a467d...|6a58b6c7e02f6d921...|\n",
            "+---+--------------------+--------------------+\n",
            "only showing top 5 rows\n",
            "\n"
          ]
        }
      ]
    },
    {
      "cell_type": "code",
      "metadata": {
        "collapsed": true,
        "id": "grQoYhKj5r3D",
        "colab": {
          "base_uri": "https://localhost:8080/",
          "height": 36
        },
        "outputId": "74bab5b9-982b-4217-ed70-766e3626960b"
      },
      "source": [
        "transformer2.getAlgorithm()"
      ],
      "execution_count": null,
      "outputs": [
        {
          "output_type": "execute_result",
          "data": {
            "application/vnd.google.colaboratory.intrinsic+json": {
              "type": "string"
            },
            "text/plain": [
              "'md5'"
            ]
          },
          "metadata": {},
          "execution_count": 47
        }
      ]
    },
    {
      "cell_type": "code",
      "metadata": {
        "collapsed": true,
        "id": "KmoLt9aC5r3D"
      },
      "source": [
        "spark.stop()"
      ],
      "execution_count": null,
      "outputs": []
    },
    {
      "cell_type": "code",
      "metadata": {
        "id": "KcOgocD_JMGm"
      },
      "source": [],
      "execution_count": null,
      "outputs": []
    }
  ]
}