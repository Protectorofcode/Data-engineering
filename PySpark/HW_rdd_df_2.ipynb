{
  "nbformat": 4,
  "nbformat_minor": 0,
  "metadata": {
    "colab": {
      "name": "Урок 2. HW rdd df",
      "provenance": [],
      "collapsed_sections": []
    },
    "kernelspec": {
      "name": "python3",
      "display_name": "Python 3"
    },
    "language_info": {
      "name": "python"
    }
  },
  "cells": [
    {
      "cell_type": "markdown",
      "metadata": {
        "id": "8Zc4sdy0s35D"
      },
      "source": [
        "# Создаём точку входа в Spark"
      ]
    },
    {
      "cell_type": "code",
      "metadata": {
        "colab": {
          "base_uri": "https://localhost:8080/"
        },
        "id": "oDB1XNgm0eC6",
        "outputId": "5ad1ae2d-45d7-4a79-a0a3-77b90d3bfc8c"
      },
      "source": [
        "pip install pyspark"
      ],
      "execution_count": 2,
      "outputs": [
        {
          "output_type": "stream",
          "name": "stdout",
          "text": [
            "Collecting pyspark\n",
            "  Downloading pyspark-3.2.0.tar.gz (281.3 MB)\n",
            "\u001b[K     |████████████████████████████████| 281.3 MB 34 kB/s \n",
            "\u001b[?25hCollecting py4j==0.10.9.2\n",
            "  Downloading py4j-0.10.9.2-py2.py3-none-any.whl (198 kB)\n",
            "\u001b[K     |████████████████████████████████| 198 kB 50.2 MB/s \n",
            "\u001b[?25hBuilding wheels for collected packages: pyspark\n",
            "  Building wheel for pyspark (setup.py) ... \u001b[?25l\u001b[?25hdone\n",
            "  Created wheel for pyspark: filename=pyspark-3.2.0-py2.py3-none-any.whl size=281805912 sha256=bb174e049cca39367c9c2f713457db60ea03f080375ac9d2f358da60d035ffad\n",
            "  Stored in directory: /root/.cache/pip/wheels/0b/de/d2/9be5d59d7331c6c2a7c1b6d1a4f463ce107332b1ecd4e80718\n",
            "Successfully built pyspark\n",
            "Installing collected packages: py4j, pyspark\n",
            "Successfully installed py4j-0.10.9.2 pyspark-3.2.0\n"
          ]
        }
      ]
    },
    {
      "cell_type": "code",
      "metadata": {
        "id": "idrMQH4dj605"
      },
      "source": [
        "from pyspark.sql import SparkSession\n",
        "\n",
        "spark = SparkSession.builder\\\n",
        "        .master('local[4]')\\\n",
        "        .appName('Lesson_2')\\\n",
        "        .config('spark.ui.port', '4050')\\\n",
        "        .config('spark.executor.instances', 2)\\\n",
        "        .config('spark.executor.memory', '5g')\\\n",
        "        .config('spark.executor.cores', 2)\\\n",
        "        .getOrCreate()\n",
        "\n",
        "sc = spark.sparkContext"
      ],
      "execution_count": 3,
      "outputs": []
    },
    {
      "cell_type": "code",
      "metadata": {
        "colab": {
          "base_uri": "https://localhost:8080/",
          "height": 216
        },
        "id": "ZfhfV3EWHzqB",
        "outputId": "92e827f8-1a18-42d8-d6e5-c6b0dc9f27e1"
      },
      "source": [
        "spark"
      ],
      "execution_count": 4,
      "outputs": [
        {
          "output_type": "execute_result",
          "data": {
            "text/html": [
              "\n",
              "            <div>\n",
              "                <p><b>SparkSession - in-memory</b></p>\n",
              "                \n",
              "        <div>\n",
              "            <p><b>SparkContext</b></p>\n",
              "\n",
              "            <p><a href=\"http://a0a2a536e30a:4050\">Spark UI</a></p>\n",
              "\n",
              "            <dl>\n",
              "              <dt>Version</dt>\n",
              "                <dd><code>v3.2.0</code></dd>\n",
              "              <dt>Master</dt>\n",
              "                <dd><code>local[4]</code></dd>\n",
              "              <dt>AppName</dt>\n",
              "                <dd><code>Lesson_2</code></dd>\n",
              "            </dl>\n",
              "        </div>\n",
              "        \n",
              "            </div>\n",
              "        "
            ],
            "text/plain": [
              "<pyspark.sql.session.SparkSession at 0x7fc1f966fd90>"
            ]
          },
          "metadata": {},
          "execution_count": 4
        }
      ]
    },
    {
      "cell_type": "markdown",
      "metadata": {
        "id": "VrBE3PdXtOwT"
      },
      "source": [
        "# Самостоятельная работа\n",
        "\n",
        "Требуется выяснить:\n",
        "1. Какое соотношение сторон экрана телефона самое популярное,\n",
        "2. Плотность пикселей у экрана.\n",
        "\n",
        "Можно использовать только rdd.\n",
        "\n",
        "Всего 8 баллов. \n"
      ]
    },
    {
      "cell_type": "markdown",
      "metadata": {
        "id": "FjAfrNtXSKBz"
      },
      "source": [
        "## Считывание данных\n",
        "Данные взяты отсюда: https://www.kaggle.com/iabhishekofficial/mobile-price-classification\n",
        "Скачиваем и копируем в папку с нотебуком\n",
        "\n",
        "Внутри содержится следующая информация:\n",
        "\n",
        "* id: ID\n",
        "* battery_power: Total energy a battery can store in one time (mAh)\n",
        "* blue: Support bluetooth or not\n",
        "* clock_speed: Speed at which microprocessor executes instructions\n",
        "* dual_sim: Support dual sim or not\n",
        "* fc: Front Camera mega pixels\n",
        "* four_g: Support 4G or not\n",
        "* int_memory: Internal Memory (GB)\n",
        "* m_dep: Mobile Depth (cm)\n",
        "* mobile_wt: Weight of mobile phone\n",
        "* n_cores: Number of cores of processor\n",
        "* pc: Primary Camera mega pixels\n",
        "* px_height: Pixel Resolution Height\n",
        "* px_width: Pixel Resolution Width\n",
        "* ram: Random Access Memory (MB)\n",
        "* sc_h: Screen Height of mobile (cm)\n",
        "* sc_w: Screen Width of mobile (cm)\n",
        "* talk_time: Time that a single battery charge will last\n",
        "* three_g: Support 3G or not\n",
        "* touch_screen: Has touch screen or not\n",
        "* wifi: Support wifi or not"
      ]
    },
    {
      "cell_type": "code",
      "metadata": {
        "id": "3VyKjYOSkLlp"
      },
      "source": [
        "train = sc.textFile('/content/train.csv')\n",
        "test = sc.textFile('/content/test.csv')"
      ],
      "execution_count": 5,
      "outputs": []
    },
    {
      "cell_type": "code",
      "metadata": {
        "id": "E9Vb0d0hutEb",
        "colab": {
          "base_uri": "https://localhost:8080/"
        },
        "outputId": "9f043f7c-5c73-477a-e89e-bb2414beb465"
      },
      "source": [
        "# Выведите содержимое каждого файла (часть строк) (1 балл)\n",
        "###############\n",
        "\n",
        "train.take(5)\n",
        "###############"
      ],
      "execution_count": 6,
      "outputs": [
        {
          "output_type": "execute_result",
          "data": {
            "text/plain": [
              "['battery_power,blue,clock_speed,dual_sim,fc,four_g,int_memory,m_dep,mobile_wt,n_cores,pc,px_height,px_width,ram,sc_h,sc_w,talk_time,three_g,touch_screen,wifi,price_range',\n",
              " '842,0,2.2,0,1,0,7,0.6,188,2,2,20,756,2549,9,7,19,0,0,1,1',\n",
              " '1021,1,0.5,1,0,1,53,0.7,136,3,6,905,1988,2631,17,3,7,1,1,0,2',\n",
              " '563,1,0.5,1,2,1,41,0.9,145,5,6,1263,1716,2603,11,2,9,1,1,0,2',\n",
              " '615,1,2.5,0,0,0,10,0.8,131,6,9,1216,1786,2769,16,8,11,1,0,0,2']"
            ]
          },
          "metadata": {},
          "execution_count": 6
        }
      ]
    },
    {
      "cell_type": "code",
      "metadata": {
        "colab": {
          "base_uri": "https://localhost:8080/"
        },
        "id": "ahFsrB-E4ISj",
        "outputId": "34547a7e-be09-457d-8ab4-4f9f5c539282"
      },
      "source": [
        "test.take(5)"
      ],
      "execution_count": 7,
      "outputs": [
        {
          "output_type": "execute_result",
          "data": {
            "text/plain": [
              "['id,battery_power,blue,clock_speed,dual_sim,fc,four_g,int_memory,m_dep,mobile_wt,n_cores,pc,px_height,px_width,ram,sc_h,sc_w,talk_time,three_g,touch_screen,wifi',\n",
              " '1,1043,1,1.8,1,14,0,5,0.1,193,3,16,226,1412,3476,12,7,2,0,1,0',\n",
              " '2,841,1,0.5,1,4,1,61,0.8,191,5,12,746,857,3895,6,0,7,1,0,0',\n",
              " '3,1807,1,2.8,0,1,0,27,0.9,186,3,4,1270,1366,2396,17,10,10,0,1,1',\n",
              " '4,1546,0,0.5,1,18,1,25,0.5,96,8,20,295,1752,3893,10,0,7,1,1,0']"
            ]
          },
          "metadata": {},
          "execution_count": 7
        }
      ]
    },
    {
      "cell_type": "markdown",
      "metadata": {
        "id": "5pNi9czovHNh"
      },
      "source": [
        "##  Преобразуем train и test"
      ]
    },
    {
      "cell_type": "code",
      "metadata": {
        "id": "8PzsLhWdvCY_"
      },
      "source": [
        "train_first_row = train.first()\n",
        "\n",
        "train = train\\\n",
        "    .filter(lambda row: row != train_first_row)\\\n",
        "    .map(lambda row: [float(el) for el in row.split(',')[:-1]])"
      ],
      "execution_count": 8,
      "outputs": []
    },
    {
      "cell_type": "code",
      "metadata": {
        "id": "QKCMFiVenNia"
      },
      "source": [
        "# Преобразуйте test (1 балл)\n",
        "###############\n",
        "\n",
        "test_first_row = test.first()\n",
        "test = test\\\n",
        "    .filter(lambda row: row != test_first_row)\\\n",
        "    .map(lambda row: [float(el) for el in row.split(',')[1:]])\n",
        "###############"
      ],
      "execution_count": 9,
      "outputs": []
    },
    {
      "cell_type": "markdown",
      "metadata": {
        "id": "kjCdeAS4v1Vc"
      },
      "source": [
        "## Объединим train и test\n",
        "Найти нужную функцию можно [здесь](https://spark.apache.org/docs/3.1.1/api/python/reference/pyspark.html#rdd-apis)\n",
        "\n",
        "PS: нужно сделать средсвтвами rdd pd.concat([train, test,], axis=0)"
      ]
    },
    {
      "cell_type": "code",
      "metadata": {
        "id": "5-Oeq54KxhXa",
        "colab": {
          "base_uri": "https://localhost:8080/"
        },
        "outputId": "cf72945e-2955-4280-c9b0-82568ee7bd95"
      },
      "source": [
        "# Объедините train и test (2 балла)\n",
        "###############\n",
        "# Ваш код здесь\n",
        "\n",
        "data = train.union(test)\n",
        "data.count()\n",
        "###############"
      ],
      "execution_count": 10,
      "outputs": [
        {
          "output_type": "execute_result",
          "data": {
            "text/plain": [
              "3000"
            ]
          },
          "metadata": {},
          "execution_count": 10
        }
      ]
    },
    {
      "cell_type": "code",
      "metadata": {
        "colab": {
          "base_uri": "https://localhost:8080/"
        },
        "id": "I8OkenAqL9gS",
        "outputId": "b2a757ea-689d-4f40-fb7c-fa9dad9585c3"
      },
      "source": [
        "train.count()"
      ],
      "execution_count": 11,
      "outputs": [
        {
          "output_type": "execute_result",
          "data": {
            "text/plain": [
              "2000"
            ]
          },
          "metadata": {},
          "execution_count": 11
        }
      ]
    },
    {
      "cell_type": "code",
      "metadata": {
        "colab": {
          "base_uri": "https://localhost:8080/"
        },
        "id": "tS6uDj35MAVK",
        "outputId": "d676dccd-4e39-44b6-feab-6b4e2673366a"
      },
      "source": [
        "test.count()"
      ],
      "execution_count": 12,
      "outputs": [
        {
          "output_type": "execute_result",
          "data": {
            "text/plain": [
              "1000"
            ]
          },
          "metadata": {},
          "execution_count": 12
        }
      ]
    },
    {
      "cell_type": "markdown",
      "metadata": {
        "id": "GxGGHqRyx7XG"
      },
      "source": [
        "## Рассчитайте соотношение сторон телефона и экрана"
      ]
    },
    {
      "cell_type": "code",
      "metadata": {
        "colab": {
          "base_uri": "https://localhost:8080/"
        },
        "id": "IbPy7wH5ab5M",
        "outputId": "db6c7112-29e8-4afa-f252-0c03832e7a46"
      },
      "source": [
        "data_header = train_first_row.split(',')[:-1]\n",
        "data_header"
      ],
      "execution_count": 13,
      "outputs": [
        {
          "output_type": "execute_result",
          "data": {
            "text/plain": [
              "['battery_power',\n",
              " 'blue',\n",
              " 'clock_speed',\n",
              " 'dual_sim',\n",
              " 'fc',\n",
              " 'four_g',\n",
              " 'int_memory',\n",
              " 'm_dep',\n",
              " 'mobile_wt',\n",
              " 'n_cores',\n",
              " 'pc',\n",
              " 'px_height',\n",
              " 'px_width',\n",
              " 'ram',\n",
              " 'sc_h',\n",
              " 'sc_w',\n",
              " 'talk_time',\n",
              " 'three_g',\n",
              " 'touch_screen',\n",
              " 'wifi']"
            ]
          },
          "metadata": {},
          "execution_count": 13
        }
      ]
    },
    {
      "cell_type": "code",
      "metadata": {
        "id": "Hr7KSOUUbhXl"
      },
      "source": [
        "px_height = data_header.index('px_height')\n",
        "px_width = data_header.index('px_width')"
      ],
      "execution_count": 14,
      "outputs": []
    },
    {
      "cell_type": "code",
      "metadata": {
        "id": "HckZvR72xs7W",
        "colab": {
          "base_uri": "https://localhost:8080/"
        },
        "outputId": "c58592ff-350f-4125-df0d-dd8d8f42025c"
      },
      "source": [
        "# Выведите отсортированное распределение соотношений сторон экрана(1 балла)\n",
        "# в разрезе широкоформатные или нет (экран широкоформатный, если соотногшение >=16:9)\n",
        "###############\n",
        "\n",
        "data\\\n",
        "    .map(lambda row: (row[px_width], row[px_height]))\\\n",
        "    .filter(lambda row: row[1]!= 0)\\\n",
        "    .map(lambda row: (('high_resolution' if row[0]/row[1] >= 1.77 else 'low_resolution'),1))\\\n",
        "    .reduceByKey(lambda x,y: x + y)\\\n",
        "    .sortByKey()\\\n",
        "    .collect()"
      ],
      "execution_count": 15,
      "outputs": [
        {
          "output_type": "execute_result",
          "data": {
            "text/plain": [
              "[('high_resolution', 1643), ('low_resolution', 1353)]"
            ]
          },
          "metadata": {},
          "execution_count": 15
        }
      ]
    },
    {
      "cell_type": "code",
      "metadata": {
        "id": "tJFouqA6m5-g"
      },
      "source": [
        "import math"
      ],
      "execution_count": 16,
      "outputs": []
    },
    {
      "cell_type": "code",
      "metadata": {
        "id": "MPwvhBdCmjWB"
      },
      "source": [
        "sc_h = data_header.index('sc_h')\n",
        "sc_w = data_header.index('sc_w')"
      ],
      "execution_count": 17,
      "outputs": []
    },
    {
      "cell_type": "code",
      "metadata": {
        "id": "yZgL4q1gyrRm",
        "colab": {
          "base_uri": "https://localhost:8080/"
        },
        "outputId": "4c67c115-8e93-4dd8-f156-b770f1bd074e"
      },
      "source": [
        "# Выведите отсортированное распределение плотности пикселей (1 балла)\n",
        "# точек на дюйм\n",
        "###############\n",
        "data\\\n",
        "    .map(lambda row: (round((math.sqrt(row[px_width]**2 + row[px_height]**2) ) / (math.sqrt(row[sc_h]**2 + row[sc_w]**2))), 1))\\\n",
        "    .reduceByKey(lambda x,y: x + y)\\\n",
        "    .sortByKey(True)\\\n",
        "    .collect()\n",
        "###############"
      ],
      "execution_count": 18,
      "outputs": [
        {
          "output_type": "execute_result",
          "data": {
            "text/plain": [
              "[(22, 1),\n",
              " (24, 3),\n",
              " (25, 2),\n",
              " (26, 3),\n",
              " (27, 3),\n",
              " (28, 3),\n",
              " (29, 5),\n",
              " (30, 3),\n",
              " (31, 11),\n",
              " (32, 11),\n",
              " (33, 17),\n",
              " (34, 13),\n",
              " (35, 13),\n",
              " (36, 11),\n",
              " (37, 9),\n",
              " (38, 15),\n",
              " (39, 15),\n",
              " (40, 17),\n",
              " (41, 11),\n",
              " (42, 9),\n",
              " (43, 16),\n",
              " (44, 15),\n",
              " (45, 14),\n",
              " (46, 20),\n",
              " (47, 21),\n",
              " (48, 27),\n",
              " (49, 17),\n",
              " (50, 23),\n",
              " (51, 9),\n",
              " (52, 21),\n",
              " (53, 16),\n",
              " (54, 31),\n",
              " (55, 22),\n",
              " (56, 16),\n",
              " (57, 23),\n",
              " (58, 15),\n",
              " (59, 23),\n",
              " (60, 21),\n",
              " (61, 20),\n",
              " (62, 23),\n",
              " (63, 13),\n",
              " (64, 19),\n",
              " (65, 26),\n",
              " (66, 21),\n",
              " (67, 29),\n",
              " (68, 23),\n",
              " (69, 30),\n",
              " (70, 14),\n",
              " (71, 29),\n",
              " (72, 23),\n",
              " (73, 22),\n",
              " (74, 26),\n",
              " (75, 21),\n",
              " (76, 20),\n",
              " (77, 25),\n",
              " (78, 29),\n",
              " (79, 27),\n",
              " (80, 25),\n",
              " (81, 26),\n",
              " (82, 34),\n",
              " (83, 16),\n",
              " (84, 25),\n",
              " (85, 14),\n",
              " (86, 19),\n",
              " (87, 25),\n",
              " (88, 20),\n",
              " (89, 33),\n",
              " (90, 24),\n",
              " (91, 21),\n",
              " (92, 16),\n",
              " (93, 22),\n",
              " (94, 21),\n",
              " (95, 22),\n",
              " (96, 17),\n",
              " (97, 24),\n",
              " (98, 26),\n",
              " (99, 14),\n",
              " (100, 16),\n",
              " (101, 19),\n",
              " (102, 26),\n",
              " (103, 25),\n",
              " (104, 22),\n",
              " (105, 16),\n",
              " (106, 18),\n",
              " (107, 17),\n",
              " (108, 20),\n",
              " (109, 22),\n",
              " (110, 13),\n",
              " (111, 25),\n",
              " (112, 20),\n",
              " (113, 15),\n",
              " (114, 17),\n",
              " (115, 23),\n",
              " (116, 16),\n",
              " (117, 17),\n",
              " (118, 17),\n",
              " (119, 14),\n",
              " (120, 19),\n",
              " (121, 14),\n",
              " (122, 21),\n",
              " (123, 13),\n",
              " (124, 18),\n",
              " (125, 15),\n",
              " (126, 13),\n",
              " (127, 16),\n",
              " (128, 17),\n",
              " (129, 14),\n",
              " (130, 15),\n",
              " (131, 15),\n",
              " (132, 15),\n",
              " (133, 19),\n",
              " (134, 12),\n",
              " (135, 12),\n",
              " (136, 19),\n",
              " (137, 10),\n",
              " (138, 12),\n",
              " (139, 10),\n",
              " (140, 10),\n",
              " (141, 17),\n",
              " (142, 16),\n",
              " (143, 17),\n",
              " (144, 9),\n",
              " (145, 9),\n",
              " (146, 14),\n",
              " (147, 8),\n",
              " (148, 15),\n",
              " (149, 8),\n",
              " (150, 15),\n",
              " (151, 9),\n",
              " (152, 10),\n",
              " (153, 16),\n",
              " (154, 8),\n",
              " (155, 13),\n",
              " (156, 8),\n",
              " (157, 13),\n",
              " (158, 10),\n",
              " (159, 5),\n",
              " (160, 13),\n",
              " (161, 10),\n",
              " (162, 8),\n",
              " (163, 7),\n",
              " (164, 8),\n",
              " (165, 6),\n",
              " (166, 13),\n",
              " (167, 8),\n",
              " (168, 9),\n",
              " (169, 13),\n",
              " (170, 9),\n",
              " (171, 4),\n",
              " (172, 6),\n",
              " (173, 11),\n",
              " (174, 6),\n",
              " (175, 4),\n",
              " (176, 6),\n",
              " (177, 4),\n",
              " (178, 10),\n",
              " (179, 5),\n",
              " (180, 3),\n",
              " (181, 7),\n",
              " (182, 2),\n",
              " (183, 6),\n",
              " (184, 3),\n",
              " (185, 7),\n",
              " (186, 6),\n",
              " (187, 2),\n",
              " (188, 3),\n",
              " (189, 6),\n",
              " (190, 5),\n",
              " (191, 8),\n",
              " (192, 4),\n",
              " (193, 5),\n",
              " (194, 4),\n",
              " (195, 4),\n",
              " (196, 5),\n",
              " (197, 6),\n",
              " (198, 7),\n",
              " (199, 5),\n",
              " (200, 3),\n",
              " (201, 2),\n",
              " (202, 8),\n",
              " (203, 3),\n",
              " (204, 7),\n",
              " (205, 9),\n",
              " (206, 2),\n",
              " (207, 5),\n",
              " (208, 6),\n",
              " (209, 10),\n",
              " (210, 3),\n",
              " (211, 4),\n",
              " (212, 3),\n",
              " (213, 6),\n",
              " (214, 1),\n",
              " (215, 5),\n",
              " (216, 7),\n",
              " (217, 2),\n",
              " (218, 10),\n",
              " (219, 3),\n",
              " (220, 3),\n",
              " (221, 2),\n",
              " (222, 3),\n",
              " (223, 6),\n",
              " (224, 5),\n",
              " (225, 4),\n",
              " (226, 5),\n",
              " (227, 3),\n",
              " (228, 2),\n",
              " (229, 7),\n",
              " (230, 5),\n",
              " (231, 4),\n",
              " (232, 3),\n",
              " (233, 2),\n",
              " (235, 5),\n",
              " (236, 4),\n",
              " (237, 3),\n",
              " (238, 6),\n",
              " (239, 6),\n",
              " (240, 2),\n",
              " (241, 1),\n",
              " (242, 5),\n",
              " (243, 3),\n",
              " (244, 4),\n",
              " (245, 3),\n",
              " (246, 4),\n",
              " (247, 2),\n",
              " (248, 4),\n",
              " (249, 4),\n",
              " (250, 4),\n",
              " (251, 3),\n",
              " (252, 2),\n",
              " (253, 4),\n",
              " (254, 6),\n",
              " (255, 4),\n",
              " (256, 1),\n",
              " (257, 4),\n",
              " (258, 1),\n",
              " (259, 3),\n",
              " (260, 6),\n",
              " (261, 4),\n",
              " (262, 2),\n",
              " (263, 1),\n",
              " (264, 4),\n",
              " (265, 2),\n",
              " (266, 2),\n",
              " (268, 4),\n",
              " (269, 1),\n",
              " (271, 1),\n",
              " (272, 2),\n",
              " (273, 4),\n",
              " (274, 1),\n",
              " (275, 3),\n",
              " (276, 5),\n",
              " (277, 1),\n",
              " (278, 6),\n",
              " (279, 1),\n",
              " (280, 3),\n",
              " (281, 1),\n",
              " (283, 5),\n",
              " (284, 1),\n",
              " (285, 2),\n",
              " (286, 1),\n",
              " (288, 2),\n",
              " (289, 1),\n",
              " (290, 1),\n",
              " (291, 1),\n",
              " (292, 2),\n",
              " (293, 3),\n",
              " (294, 3),\n",
              " (295, 3),\n",
              " (296, 2),\n",
              " (297, 1),\n",
              " (298, 1),\n",
              " (299, 1),\n",
              " (301, 2),\n",
              " (302, 1),\n",
              " (304, 2),\n",
              " (305, 2),\n",
              " (306, 1),\n",
              " (307, 1),\n",
              " (311, 2),\n",
              " (312, 1),\n",
              " (313, 3),\n",
              " (314, 1),\n",
              " (315, 1),\n",
              " (316, 2),\n",
              " (317, 2),\n",
              " (318, 1),\n",
              " (319, 2),\n",
              " (321, 1),\n",
              " (322, 2),\n",
              " (323, 3),\n",
              " (324, 1),\n",
              " (326, 2),\n",
              " (327, 2),\n",
              " (328, 3),\n",
              " (330, 3),\n",
              " (331, 1),\n",
              " (333, 1),\n",
              " (334, 2),\n",
              " (336, 1),\n",
              " (337, 1),\n",
              " (339, 2),\n",
              " (343, 3),\n",
              " (345, 1),\n",
              " (347, 3),\n",
              " (350, 1),\n",
              " (353, 1),\n",
              " (354, 1),\n",
              " (355, 1),\n",
              " (358, 1),\n",
              " (360, 4),\n",
              " (362, 1),\n",
              " (363, 1),\n",
              " (364, 2),\n",
              " (367, 1),\n",
              " (371, 2),\n",
              " (373, 2),\n",
              " (376, 1),\n",
              " (378, 2),\n",
              " (386, 1),\n",
              " (389, 1),\n",
              " (395, 1),\n",
              " (396, 1),\n",
              " (397, 2),\n",
              " (399, 1),\n",
              " (403, 1),\n",
              " (405, 1),\n",
              " (410, 1),\n",
              " (416, 1),\n",
              " (421, 2),\n",
              " (422, 1),\n",
              " (426, 1),\n",
              " (430, 1),\n",
              " (431, 2),\n",
              " (435, 1),\n",
              " (436, 1),\n",
              " (448, 1),\n",
              " (486, 1),\n",
              " (493, 1),\n",
              " (507, 1)]"
            ]
          },
          "metadata": {},
          "execution_count": 18
        }
      ]
    },
    {
      "cell_type": "markdown",
      "metadata": {
        "id": "PNAGeyOmzEN4"
      },
      "source": [
        "# JOIN\n",
        "Повторите вышеописанное задание с помощью одной из функций ниже (отдельно рассчитайте для train и test, затем объедините результат)\n",
        "\n",
        "Пример для двух RDDs: (rdd = {(1, 2), (3, 4), (3, 6)} other = {(3, 9)})\n",
        "\n",
        "Имя функции |\tPurpose |\tExample |\tResult\n",
        "------------- |\t------- |\t------- |\t------\n",
        "subtractByKey |Remove elements with a key present in the other RDD.| rdd.subtractByKey(other) | {(1, 2)}\n",
        "join | Perform an inner join between two RDDs. | rdd.join(other) | {(3, (4, 9)), (3, (6, 9))}\n",
        "rightOuterJoin | Perform a join between two RDDs where the key must be present in the first RDD. | rdd.rightOuterJoin(other) | {(3,(Some(4),9)), (3,(Some(6),9))}leftOuterJoin | Perform a join between two RDDs where the key must be present in the other RDD. | rdd.leftOuterJoin(other) | {(1,(2,None)), (3,(4,Some(9))), (3,(6,Some(9)))}\n",
        "cogroup | Group data from both RDDs sharing the same key. | rdd.cogroup(other) | {(1,([2],[])), (3,([4, 6],[9]))}\n"
      ]
    },
    {
      "cell_type": "code",
      "metadata": {
        "id": "hv-sOABOtboa"
      },
      "source": [
        "train_to_join = train\\\n",
        "    .map(lambda row: (round((math.sqrt(row[px_width]**2 + row[px_height]**2) ) / (math.sqrt(row[sc_h]**2 + row[sc_w]**2))), 1))\n",
        "test_to_join = test\\\n",
        "    .map(lambda row: (round((math.sqrt(row[px_width]**2 + row[px_height]**2) ) / (math.sqrt(row[sc_h]**2 + row[sc_w]**2))), 1))"
      ],
      "execution_count": 19,
      "outputs": []
    },
    {
      "cell_type": "code",
      "metadata": {
        "id": "kRb1q9QizDiH"
      },
      "source": [
        "# 2 балла\n",
        "###############\n",
        "join_data = train_to_join.cogroup(test_to_join)\n",
        "###############"
      ],
      "execution_count": 20,
      "outputs": []
    },
    {
      "cell_type": "code",
      "metadata": {
        "colab": {
          "base_uri": "https://localhost:8080/"
        },
        "id": "-iEuOCnHt8o7",
        "outputId": "847711d1-a74f-4603-f2f5-d52e21dbe4d4"
      },
      "source": [
        "join_data.take(2)"
      ],
      "execution_count": 21,
      "outputs": [
        {
          "output_type": "execute_result",
          "data": {
            "text/plain": [
              "[(208,\n",
              "  (<pyspark.resultiterable.ResultIterable at 0x7fc1f294e4d0>,\n",
              "   <pyspark.resultiterable.ResultIterable at 0x7fc1f294e990>)),\n",
              " (40,\n",
              "  (<pyspark.resultiterable.ResultIterable at 0x7fc1f294e450>,\n",
              "   <pyspark.resultiterable.ResultIterable at 0x7fc1f294ea50>))]"
            ]
          },
          "metadata": {},
          "execution_count": 21
        }
      ]
    },
    {
      "cell_type": "code",
      "metadata": {
        "colab": {
          "base_uri": "https://localhost:8080/"
        },
        "id": "5wLL0FBLuQ5T",
        "outputId": "650f6d2a-1cf5-40a7-af22-03ab82635f8d"
      },
      "source": [
        "join_data\\\n",
        "    .map(lambda row: (row[0], sum([len(el) for el in row[1]]) ))\\\n",
        "    .sortByKey(True)\\\n",
        "    .collect()"
      ],
      "execution_count": 23,
      "outputs": [
        {
          "output_type": "execute_result",
          "data": {
            "text/plain": [
              "[(22, 1),\n",
              " (24, 3),\n",
              " (25, 2),\n",
              " (26, 3),\n",
              " (27, 3),\n",
              " (28, 3),\n",
              " (29, 5),\n",
              " (30, 3),\n",
              " (31, 11),\n",
              " (32, 11),\n",
              " (33, 17),\n",
              " (34, 13),\n",
              " (35, 13),\n",
              " (36, 11),\n",
              " (37, 9),\n",
              " (38, 15),\n",
              " (39, 15),\n",
              " (40, 17),\n",
              " (41, 11),\n",
              " (42, 9),\n",
              " (43, 16),\n",
              " (44, 15),\n",
              " (45, 14),\n",
              " (46, 20),\n",
              " (47, 21),\n",
              " (48, 27),\n",
              " (49, 17),\n",
              " (50, 23),\n",
              " (51, 9),\n",
              " (52, 21),\n",
              " (53, 16),\n",
              " (54, 31),\n",
              " (55, 22),\n",
              " (56, 16),\n",
              " (57, 23),\n",
              " (58, 15),\n",
              " (59, 23),\n",
              " (60, 21),\n",
              " (61, 20),\n",
              " (62, 23),\n",
              " (63, 13),\n",
              " (64, 19),\n",
              " (65, 26),\n",
              " (66, 21),\n",
              " (67, 29),\n",
              " (68, 23),\n",
              " (69, 30),\n",
              " (70, 14),\n",
              " (71, 29),\n",
              " (72, 23),\n",
              " (73, 22),\n",
              " (74, 26),\n",
              " (75, 21),\n",
              " (76, 20),\n",
              " (77, 25),\n",
              " (78, 29),\n",
              " (79, 27),\n",
              " (80, 25),\n",
              " (81, 26),\n",
              " (82, 34),\n",
              " (83, 16),\n",
              " (84, 25),\n",
              " (85, 14),\n",
              " (86, 19),\n",
              " (87, 25),\n",
              " (88, 20),\n",
              " (89, 33),\n",
              " (90, 24),\n",
              " (91, 21),\n",
              " (92, 16),\n",
              " (93, 22),\n",
              " (94, 21),\n",
              " (95, 22),\n",
              " (96, 17),\n",
              " (97, 24),\n",
              " (98, 26),\n",
              " (99, 14),\n",
              " (100, 16),\n",
              " (101, 19),\n",
              " (102, 26),\n",
              " (103, 25),\n",
              " (104, 22),\n",
              " (105, 16),\n",
              " (106, 18),\n",
              " (107, 17),\n",
              " (108, 20),\n",
              " (109, 22),\n",
              " (110, 13),\n",
              " (111, 25),\n",
              " (112, 20),\n",
              " (113, 15),\n",
              " (114, 17),\n",
              " (115, 23),\n",
              " (116, 16),\n",
              " (117, 17),\n",
              " (118, 17),\n",
              " (119, 14),\n",
              " (120, 19),\n",
              " (121, 14),\n",
              " (122, 21),\n",
              " (123, 13),\n",
              " (124, 18),\n",
              " (125, 15),\n",
              " (126, 13),\n",
              " (127, 16),\n",
              " (128, 17),\n",
              " (129, 14),\n",
              " (130, 15),\n",
              " (131, 15),\n",
              " (132, 15),\n",
              " (133, 19),\n",
              " (134, 12),\n",
              " (135, 12),\n",
              " (136, 19),\n",
              " (137, 10),\n",
              " (138, 12),\n",
              " (139, 10),\n",
              " (140, 10),\n",
              " (141, 17),\n",
              " (142, 16),\n",
              " (143, 17),\n",
              " (144, 9),\n",
              " (145, 9),\n",
              " (146, 14),\n",
              " (147, 8),\n",
              " (148, 15),\n",
              " (149, 8),\n",
              " (150, 15),\n",
              " (151, 9),\n",
              " (152, 10),\n",
              " (153, 16),\n",
              " (154, 8),\n",
              " (155, 13),\n",
              " (156, 8),\n",
              " (157, 13),\n",
              " (158, 10),\n",
              " (159, 5),\n",
              " (160, 13),\n",
              " (161, 10),\n",
              " (162, 8),\n",
              " (163, 7),\n",
              " (164, 8),\n",
              " (165, 6),\n",
              " (166, 13),\n",
              " (167, 8),\n",
              " (168, 9),\n",
              " (169, 13),\n",
              " (170, 9),\n",
              " (171, 4),\n",
              " (172, 6),\n",
              " (173, 11),\n",
              " (174, 6),\n",
              " (175, 4),\n",
              " (176, 6),\n",
              " (177, 4),\n",
              " (178, 10),\n",
              " (179, 5),\n",
              " (180, 3),\n",
              " (181, 7),\n",
              " (182, 2),\n",
              " (183, 6),\n",
              " (184, 3),\n",
              " (185, 7),\n",
              " (186, 6),\n",
              " (187, 2),\n",
              " (188, 3),\n",
              " (189, 6),\n",
              " (190, 5),\n",
              " (191, 8),\n",
              " (192, 4),\n",
              " (193, 5),\n",
              " (194, 4),\n",
              " (195, 4),\n",
              " (196, 5),\n",
              " (197, 6),\n",
              " (198, 7),\n",
              " (199, 5),\n",
              " (200, 3),\n",
              " (201, 2),\n",
              " (202, 8),\n",
              " (203, 3),\n",
              " (204, 7),\n",
              " (205, 9),\n",
              " (206, 2),\n",
              " (207, 5),\n",
              " (208, 6),\n",
              " (209, 10),\n",
              " (210, 3),\n",
              " (211, 4),\n",
              " (212, 3),\n",
              " (213, 6),\n",
              " (214, 1),\n",
              " (215, 5),\n",
              " (216, 7),\n",
              " (217, 2),\n",
              " (218, 10),\n",
              " (219, 3),\n",
              " (220, 3),\n",
              " (221, 2),\n",
              " (222, 3),\n",
              " (223, 6),\n",
              " (224, 5),\n",
              " (225, 4),\n",
              " (226, 5),\n",
              " (227, 3),\n",
              " (228, 2),\n",
              " (229, 7),\n",
              " (230, 5),\n",
              " (231, 4),\n",
              " (232, 3),\n",
              " (233, 2),\n",
              " (235, 5),\n",
              " (236, 4),\n",
              " (237, 3),\n",
              " (238, 6),\n",
              " (239, 6),\n",
              " (240, 2),\n",
              " (241, 1),\n",
              " (242, 5),\n",
              " (243, 3),\n",
              " (244, 4),\n",
              " (245, 3),\n",
              " (246, 4),\n",
              " (247, 2),\n",
              " (248, 4),\n",
              " (249, 4),\n",
              " (250, 4),\n",
              " (251, 3),\n",
              " (252, 2),\n",
              " (253, 4),\n",
              " (254, 6),\n",
              " (255, 4),\n",
              " (256, 1),\n",
              " (257, 4),\n",
              " (258, 1),\n",
              " (259, 3),\n",
              " (260, 6),\n",
              " (261, 4),\n",
              " (262, 2),\n",
              " (263, 1),\n",
              " (264, 4),\n",
              " (265, 2),\n",
              " (266, 2),\n",
              " (268, 4),\n",
              " (269, 1),\n",
              " (271, 1),\n",
              " (272, 2),\n",
              " (273, 4),\n",
              " (274, 1),\n",
              " (275, 3),\n",
              " (276, 5),\n",
              " (277, 1),\n",
              " (278, 6),\n",
              " (279, 1),\n",
              " (280, 3),\n",
              " (281, 1),\n",
              " (283, 5),\n",
              " (284, 1),\n",
              " (285, 2),\n",
              " (286, 1),\n",
              " (288, 2),\n",
              " (289, 1),\n",
              " (290, 1),\n",
              " (291, 1),\n",
              " (292, 2),\n",
              " (293, 3),\n",
              " (294, 3),\n",
              " (295, 3),\n",
              " (296, 2),\n",
              " (297, 1),\n",
              " (298, 1),\n",
              " (299, 1),\n",
              " (301, 2),\n",
              " (302, 1),\n",
              " (304, 2),\n",
              " (305, 2),\n",
              " (306, 1),\n",
              " (307, 1),\n",
              " (311, 2),\n",
              " (312, 1),\n",
              " (313, 3),\n",
              " (314, 1),\n",
              " (315, 1),\n",
              " (316, 2),\n",
              " (317, 2),\n",
              " (318, 1),\n",
              " (319, 2),\n",
              " (321, 1),\n",
              " (322, 2),\n",
              " (323, 3),\n",
              " (324, 1),\n",
              " (326, 2),\n",
              " (327, 2),\n",
              " (328, 3),\n",
              " (330, 3),\n",
              " (331, 1),\n",
              " (333, 1),\n",
              " (334, 2),\n",
              " (336, 1),\n",
              " (337, 1),\n",
              " (339, 2),\n",
              " (343, 3),\n",
              " (345, 1),\n",
              " (347, 3),\n",
              " (350, 1),\n",
              " (353, 1),\n",
              " (354, 1),\n",
              " (355, 1),\n",
              " (358, 1),\n",
              " (360, 4),\n",
              " (362, 1),\n",
              " (363, 1),\n",
              " (364, 2),\n",
              " (367, 1),\n",
              " (371, 2),\n",
              " (373, 2),\n",
              " (376, 1),\n",
              " (378, 2),\n",
              " (386, 1),\n",
              " (389, 1),\n",
              " (395, 1),\n",
              " (396, 1),\n",
              " (397, 2),\n",
              " (399, 1),\n",
              " (403, 1),\n",
              " (405, 1),\n",
              " (410, 1),\n",
              " (416, 1),\n",
              " (421, 2),\n",
              " (422, 1),\n",
              " (426, 1),\n",
              " (430, 1),\n",
              " (431, 2),\n",
              " (435, 1),\n",
              " (436, 1),\n",
              " (448, 1),\n",
              " (486, 1),\n",
              " (493, 1),\n",
              " (507, 1)]"
            ]
          },
          "metadata": {},
          "execution_count": 23
        }
      ]
    },
    {
      "cell_type": "code",
      "metadata": {
        "id": "vMNV7JcX43kg"
      },
      "source": [
        "train_to_join_px = train\\\n",
        "    .map(lambda row: (row[px_width], row[px_height]))\\\n",
        "    .filter(lambda row: row[1]!=0)\\\n",
        "    .map(lambda row: (('high_resolution' if row[0]/row[1] >= 1.77 else 'low_resolution' ), 1))\n",
        "\n",
        "test_to_join_px = test\\\n",
        "    .map(lambda row: (row[px_width], row[px_height]))\\\n",
        "    .filter(lambda row: row[1]!=0)\\\n",
        "    .map(lambda row: (('high_resolution' if row[0]/row[1] >= 1.77 else 'low_resolution' ), 1))"
      ],
      "execution_count": 27,
      "outputs": []
    },
    {
      "cell_type": "code",
      "metadata": {
        "id": "loPyLTkrA96z"
      },
      "source": [
        "join_data_px = train_to_join_px.cogroup(test_to_join_px)"
      ],
      "execution_count": 28,
      "outputs": []
    },
    {
      "cell_type": "code",
      "metadata": {
        "colab": {
          "base_uri": "https://localhost:8080/"
        },
        "id": "ce-V0sVoBEnr",
        "outputId": "70131209-2ecd-40d7-9ad1-77723563d8c6"
      },
      "source": [
        "join_data_px\\\n",
        "    .map(lambda row: (row[0], sum([len(el) for el in row[1]]) ))\\\n",
        "    .sortByKey(True)\\\n",
        "    .collect()"
      ],
      "execution_count": 29,
      "outputs": [
        {
          "output_type": "execute_result",
          "data": {
            "text/plain": [
              "[('high_resolution', 1643), ('low_resolution', 1353)]"
            ]
          },
          "metadata": {},
          "execution_count": 29
        }
      ]
    },
    {
      "cell_type": "markdown",
      "metadata": {
        "id": "uySWyv8CXIMF"
      },
      "source": [
        "# DataFrame\n",
        "Теперь мы знаем про Dataframe. Нужно сделать практически всё то же самое, но используя датафрейм."
      ]
    },
    {
      "cell_type": "code",
      "metadata": {
        "id": "ARWfoX-0Cc0b"
      },
      "source": [
        "from pyspark.sql.functions import col, round, pow, sqrt"
      ],
      "execution_count": 32,
      "outputs": []
    },
    {
      "cell_type": "code",
      "metadata": {
        "id": "48HI_jrnbKEk"
      },
      "source": [
        "# Считываем и объединяем данные (1 балл)\n",
        "# Приведите все данные к правильному типу, либо считайе сразу верно (1 балл)\n",
        "# Создаём колонки с соотношением сторон и плотностью пикселей (1 балл)\n",
        "###############\n",
        "df_train = spark.read.csv('train.csv', header=True, inferSchema=True)\n",
        "df_test = spark.read.csv('test.csv', header=True, inferSchema=True)\n",
        "###############"
      ],
      "execution_count": 30,
      "outputs": []
    },
    {
      "cell_type": "code",
      "metadata": {
        "colab": {
          "base_uri": "https://localhost:8080/"
        },
        "id": "hUgrxPMgCVH0",
        "outputId": "521575d2-d908-42a5-9870-21ab8e5157da"
      },
      "source": [
        "data = df_test.unionByName(df_train, allowMissingColumns=True)\n",
        "data"
      ],
      "execution_count": 31,
      "outputs": [
        {
          "output_type": "execute_result",
          "data": {
            "text/plain": [
              "DataFrame[id: int, battery_power: int, blue: int, clock_speed: double, dual_sim: int, fc: int, four_g: int, int_memory: int, m_dep: double, mobile_wt: int, n_cores: int, pc: int, px_height: int, px_width: int, ram: int, sc_h: int, sc_w: int, talk_time: int, three_g: int, touch_screen: int, wifi: int, price_range: int]"
            ]
          },
          "metadata": {},
          "execution_count": 31
        }
      ]
    },
    {
      "cell_type": "code",
      "metadata": {
        "id": "1f7pVjGPCY4T"
      },
      "source": [
        "data = data\\\n",
        "    .withColumn('asc_rate', round((col('px_width') / col('px_height')), 2))\\\n",
        "    .withColumn('ppi', round((sqrt(pow(data.px_width, 2) + pow(data.px_height,2)) ) / (sqrt(pow(data.sc_h, 2) + pow(data.sc_w, 2)))))"
      ],
      "execution_count": 33,
      "outputs": []
    },
    {
      "cell_type": "code",
      "metadata": {
        "colab": {
          "base_uri": "https://localhost:8080/"
        },
        "id": "GWv2_3r7F6k1",
        "outputId": "f02b377e-3dc7-445b-e439-0665b4f2220b"
      },
      "source": [
        "data.show()"
      ],
      "execution_count": 34,
      "outputs": [
        {
          "output_type": "stream",
          "name": "stdout",
          "text": [
            "+---+-------------+----+-----------+--------+---+------+----------+-----+---------+-------+---+---------+--------+----+----+----+---------+-------+------------+----+-----------+--------+-----+\n",
            "| id|battery_power|blue|clock_speed|dual_sim| fc|four_g|int_memory|m_dep|mobile_wt|n_cores| pc|px_height|px_width| ram|sc_h|sc_w|talk_time|three_g|touch_screen|wifi|price_range|asc_rate|  ppi|\n",
            "+---+-------------+----+-----------+--------+---+------+----------+-----+---------+-------+---+---------+--------+----+----+----+---------+-------+------------+----+-----------+--------+-----+\n",
            "|  1|         1043|   1|        1.8|       1| 14|     0|         5|  0.1|      193|      3| 16|      226|    1412|3476|  12|   7|        2|      0|           1|   0|       null|    6.25|103.0|\n",
            "|  2|          841|   1|        0.5|       1|  4|     1|        61|  0.8|      191|      5| 12|      746|     857|3895|   6|   0|        7|      1|           0|   0|       null|    1.15|189.0|\n",
            "|  3|         1807|   1|        2.8|       0|  1|     0|        27|  0.9|      186|      3|  4|     1270|    1366|2396|  17|  10|       10|      0|           1|   1|       null|    1.08| 95.0|\n",
            "|  4|         1546|   0|        0.5|       1| 18|     1|        25|  0.5|       96|      8| 20|      295|    1752|3893|  10|   0|        7|      1|           1|   0|       null|    5.94|178.0|\n",
            "|  5|         1434|   0|        1.4|       0| 11|     1|        49|  0.5|      108|      6| 18|      749|     810|1773|  15|   8|        7|      1|           0|   1|       null|    1.08| 65.0|\n",
            "|  6|         1464|   1|        2.9|       1|  5|     1|        50|  0.8|      198|      8|  9|      569|     939|3506|  10|   7|        3|      1|           1|   1|       null|    1.65| 90.0|\n",
            "|  7|         1718|   0|        2.4|       0|  1|     0|        47|  1.0|      156|      2|  3|     1283|    1374|3873|  14|   2|       10|      0|           0|   0|       null|    1.07|133.0|\n",
            "|  8|          833|   0|        2.4|       1|  0|     0|        62|  0.8|      111|      1|  2|     1312|    1880|1495|   7|   2|       18|      0|           1|   1|       null|    1.43|315.0|\n",
            "|  9|         1111|   1|        2.9|       1|  9|     1|        25|  0.6|      101|      5| 19|      556|     876|3485|  11|   9|       10|      1|           1|   0|       null|    1.58| 73.0|\n",
            "| 10|         1520|   0|        0.5|       0|  1|     0|        25|  0.5|      171|      3| 20|       52|    1009| 651|   6|   0|        5|      1|           0|   1|       null|    19.4|168.0|\n",
            "| 11|         1500|   0|        2.2|       0|  2|     0|        55|  0.6|       80|      7|  6|      503|    1336|3866|  13|   7|       20|      0|           1|   0|       null|    2.66| 97.0|\n",
            "| 12|         1343|   0|        2.9|       0|  2|     1|        34|  0.8|      171|      3|  6|      235|    1671|3911|  15|   8|        8|      1|           1|   1|       null|    7.11| 99.0|\n",
            "| 13|          900|   1|        1.4|       1|  0|     0|        30|  1.0|       87|      2|  3|      829|    1893| 439|   6|   2|       20|      1|           0|   0|       null|    2.28|327.0|\n",
            "| 14|         1190|   1|        2.2|       1|  5|     0|        19|  0.9|      158|      5| 15|      227|    1856| 992|  13|   0|       16|      1|           1|   0|       null|    8.18|144.0|\n",
            "| 15|          630|   0|        1.8|       0|  8|     1|        51|  0.9|      193|      8|  9|     1315|    1323|2751|  17|   6|        3|      1|           1|   0|       null|    1.01|103.0|\n",
            "| 16|         1846|   1|        1.0|       0|  5|     1|        53|  0.7|      106|      8|  7|      185|    1832| 563|   9|   5|       10|      1|           0|   1|       null|     9.9|179.0|\n",
            "| 17|         1985|   0|        0.5|       1| 14|     1|        26|  1.0|      163|      2| 17|      613|    1511|2083|  13|   3|       14|      1|           1|   0|       null|    2.46|122.0|\n",
            "| 18|         1042|   0|        2.9|       0|  5|     1|        48|  0.2|      186|      4| 15|      335|     532|2187|   9|   2|        5|      1|           0|   0|       null|    1.59| 68.0|\n",
            "| 19|         1231|   1|        1.7|       1|  2|     1|        37|  0.2|      194|      2|  3|       82|    1771|3902|  19|  12|       15|      1|           0|   1|       null|    21.6| 79.0|\n",
            "| 20|         1488|   0|        2.6|       0|  9|     0|        37|  0.7|      189|      4| 20|       47|     559|2524|   5|   0|        6|      0|           0|   0|       null|   11.89|112.0|\n",
            "+---+-------------+----+-----------+--------+---+------+----------+-----+---------+-------+---+---------+--------+----+----+----+---------+-------+------------+----+-----------+--------+-----+\n",
            "only showing top 20 rows\n",
            "\n"
          ]
        }
      ]
    },
    {
      "cell_type": "markdown",
      "metadata": {
        "id": "FtJ2G-Eob6LI"
      },
      "source": [
        "## Сохранение\n"
      ]
    },
    {
      "cell_type": "code",
      "metadata": {
        "id": "sgRM7IV3b6LJ",
        "colab": {
          "base_uri": "https://localhost:8080/"
        },
        "outputId": "1d7b38aa-2983-4267-d35b-056e6fa36eb4"
      },
      "source": [
        "# Сохраните результат в csv sep=';', encoding='cp1251'\n",
        "# с колонками id, плотность пикселей и временем разговора в формате \"1day 1hour 1minute\"\n",
        "# 2 балла\n",
        "###############\n",
        "data_save = data.select('id', 'ppi', 'talk_time')\n",
        "data_save\n",
        "###############"
      ],
      "execution_count": 35,
      "outputs": [
        {
          "output_type": "execute_result",
          "data": {
            "text/plain": [
              "DataFrame[id: int, ppi: double, talk_time: int]"
            ]
          },
          "metadata": {},
          "execution_count": 35
        }
      ]
    },
    {
      "cell_type": "code",
      "metadata": {
        "id": "Mc9uG_y2bxV2"
      },
      "source": [
        "data_save.write.csv('train_test_result.csv', sep=',', header=True, encoding='cp1251')"
      ],
      "execution_count": 36,
      "outputs": []
    }
  ]
}